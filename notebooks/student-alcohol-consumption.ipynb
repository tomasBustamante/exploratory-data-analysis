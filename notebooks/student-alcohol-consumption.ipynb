{
 "cells": [
  {
   "cell_type": "markdown",
   "metadata": {},
   "source": [
    "# Student alcohol consumption\n",
    "\n",
    "Exploratory data analysis of student alcohol consumption daken from: https://www.kaggle.com/uciml/student-alcohol-consumption\n",
    "\n",
    "Attributes for both student-mat.csv (Math course) and student-por.csv (Portuguese language course) datasets:\n",
    "\n",
    "* school - student's school (binary: 'GP' - Gabriel Pereira or 'MS' - Mousinho da Silveira)\n",
    "* sex - student's sex (binary: 'F' - female or 'M' - male)\n",
    "* age - student's age (numeric: from 15 to 22)\n",
    "* address - student's home address type (binary: 'U' - urban or 'R' - rural)\n",
    "* famsize - family size (binary: 'LE3' - less or equal to 3 or 'GT3' - greater than 3)\n",
    "* Pstatus - parent's cohabitation status (binary: 'T' - living together or 'A' - apart)\n",
    "* Medu - mother's education (numeric: 0 - none, 1 - primary education (4th grade), 2 – 5th to 9th grade, 3 – secondary education or 4 – higher education)\n",
    "* Fedu - father's education (numeric: 0 - none, 1 - primary education (4th grade), 2 – 5th to 9th grade, 3 – secondary education or 4 – higher education)\n",
    "* Mjob - mother's job (nominal: 'teacher', 'health' care related, civil 'services' (e.g. administrative or police), 'at_home' or 'other')\n",
    "* Fjob - father's job (nominal: 'teacher', 'health' care related, civil 'services' (e.g. administrative or police), 'at_home' or 'other')\n",
    "* reason - reason to choose this school (nominal: close to 'home', school 'reputation', 'course' preference or 'other')\n",
    "* guardian - student's guardian (nominal: 'mother', 'father' or 'other')\n",
    "* traveltime - home to school travel time (numeric: 1 to 14:59 min., 2 - 15 to 30 min., 3 - 30 min. to 1 hour, or 4 - more than 1 hour)\n",
    "* studytime - weekly study time (numeric: 1 to 1:59 hours, 2 - 2 to 5 hours, 3 - 5 to 10 hours, or 4 - more than 10 hours)\n",
    "* failures - number of past class failures (numeric: n if n equal or greater than 1 and less than 3, else 4)\n",
    "* schoolsup - extra educational support (binary: yes or no)\n",
    "* famsup - family educational support (binary: yes or no)\n",
    "* paid - extra paid classes within the course subject (Math or Portuguese) (binary: yes or no)\n",
    "* activities - extra-curricular activities (binary: yes or no)\n",
    "* nursery - attended nursery school (binary: yes or no)\n",
    "* higher - wants to take higher education (binary: yes or no)\n",
    "* internet - Internet access at home (binary: yes or no)\n",
    "* romantic - with a romantic relationship (binary: yes or no)\n",
    "* famrel - quality of family relationships (numeric: from 1 - very bad to 5 - excellent)\n",
    "* freetime - free time after school (numeric: from 1 - very low to 5 - very high)\n",
    "* goout - going out with friends (numeric: from 1 - very low to 5 - very high)\n",
    "* Dalc - workday alcohol consumption (numeric: from 1 - very low to 5 - very high)\n",
    "* Walc - weekend alcohol consumption (numeric: from 1 - very low to 5 - very high)\n",
    "* health - current health status (numeric: from 1 - very bad to 5 - very good)\n",
    "* absences - number of school absences (numeric: from 0 to 93)\n",
    "\n",
    "These grades are related with the course subject, Math or Portuguese:\n",
    "\n",
    "* G1 - first period grade (numeric: from 0 to 20)\n",
    "* G2 - second period grade (numeric: from 0 to 20)\n",
    "* G3 - final grade (numeric: from 0 to 20, output target)"
   ]
  },
  {
   "cell_type": "code",
   "execution_count": 1,
   "metadata": {
    "collapsed": true
   },
   "outputs": [],
   "source": [
    "%matplotlib inline\n",
    "\n",
    "import datetime as datetime\n",
    "import pandas as pd\n",
    "import numpy as np\n",
    "import matplotlib.pyplot as plt\n",
    "\n",
    "plt.style.use('default')\n",
    "plt.rcParams['figure.figsize'] = (10, 5)"
   ]
  },
  {
   "cell_type": "markdown",
   "metadata": {},
   "source": [
    "## Math course data"
   ]
  },
  {
   "cell_type": "code",
   "execution_count": 2,
   "metadata": {},
   "outputs": [
    {
     "name": "stdout",
     "output_type": "stream",
     "text": [
      "<class 'pandas.core.frame.DataFrame'>\n",
      "RangeIndex: 395 entries, 0 to 394\n",
      "Data columns (total 33 columns):\n",
      "school        395 non-null object\n",
      "sex           395 non-null object\n",
      "age           395 non-null int64\n",
      "address       395 non-null object\n",
      "famsize       395 non-null object\n",
      "Pstatus       395 non-null object\n",
      "Medu          395 non-null int64\n",
      "Fedu          395 non-null int64\n",
      "Mjob          395 non-null object\n",
      "Fjob          395 non-null object\n",
      "reason        395 non-null object\n",
      "guardian      395 non-null object\n",
      "traveltime    395 non-null int64\n",
      "studytime     395 non-null int64\n",
      "failures      395 non-null int64\n",
      "schoolsup     395 non-null object\n",
      "famsup        395 non-null object\n",
      "paid          395 non-null object\n",
      "activities    395 non-null object\n",
      "nursery       395 non-null object\n",
      "higher        395 non-null object\n",
      "internet      395 non-null object\n",
      "romantic      395 non-null object\n",
      "famrel        395 non-null int64\n",
      "freetime      395 non-null int64\n",
      "goout         395 non-null int64\n",
      "Dalc          395 non-null int64\n",
      "Walc          395 non-null int64\n",
      "health        395 non-null int64\n",
      "absences      395 non-null int64\n",
      "G1            395 non-null int64\n",
      "G2            395 non-null int64\n",
      "G3            395 non-null int64\n",
      "dtypes: int64(16), object(17)\n",
      "memory usage: 101.9+ KB\n"
     ]
    }
   ],
   "source": [
    "student_mat = pd.read_csv('../data/student-alcohol-consumption/student-mat.csv', low_memory=False)\n",
    "student_mat.info()"
   ]
  },
  {
   "cell_type": "code",
   "execution_count": 3,
   "metadata": {},
   "outputs": [
    {
     "data": {
      "text/html": [
       "<div>\n",
       "<style>\n",
       "    .dataframe thead tr:only-child th {\n",
       "        text-align: right;\n",
       "    }\n",
       "\n",
       "    .dataframe thead th {\n",
       "        text-align: left;\n",
       "    }\n",
       "\n",
       "    .dataframe tbody tr th {\n",
       "        vertical-align: top;\n",
       "    }\n",
       "</style>\n",
       "<table border=\"1\" class=\"dataframe\">\n",
       "  <thead>\n",
       "    <tr style=\"text-align: right;\">\n",
       "      <th></th>\n",
       "      <th>school</th>\n",
       "      <th>sex</th>\n",
       "      <th>age</th>\n",
       "      <th>address</th>\n",
       "      <th>famsize</th>\n",
       "      <th>Pstatus</th>\n",
       "      <th>Medu</th>\n",
       "      <th>Fedu</th>\n",
       "      <th>Mjob</th>\n",
       "      <th>Fjob</th>\n",
       "      <th>...</th>\n",
       "      <th>famrel</th>\n",
       "      <th>freetime</th>\n",
       "      <th>goout</th>\n",
       "      <th>Dalc</th>\n",
       "      <th>Walc</th>\n",
       "      <th>health</th>\n",
       "      <th>absences</th>\n",
       "      <th>G1</th>\n",
       "      <th>G2</th>\n",
       "      <th>G3</th>\n",
       "    </tr>\n",
       "  </thead>\n",
       "  <tbody>\n",
       "    <tr>\n",
       "      <th>0</th>\n",
       "      <td>GP</td>\n",
       "      <td>F</td>\n",
       "      <td>18</td>\n",
       "      <td>U</td>\n",
       "      <td>GT3</td>\n",
       "      <td>A</td>\n",
       "      <td>4</td>\n",
       "      <td>4</td>\n",
       "      <td>at_home</td>\n",
       "      <td>teacher</td>\n",
       "      <td>...</td>\n",
       "      <td>4</td>\n",
       "      <td>3</td>\n",
       "      <td>4</td>\n",
       "      <td>1</td>\n",
       "      <td>1</td>\n",
       "      <td>3</td>\n",
       "      <td>6</td>\n",
       "      <td>5</td>\n",
       "      <td>6</td>\n",
       "      <td>6</td>\n",
       "    </tr>\n",
       "    <tr>\n",
       "      <th>1</th>\n",
       "      <td>GP</td>\n",
       "      <td>F</td>\n",
       "      <td>17</td>\n",
       "      <td>U</td>\n",
       "      <td>GT3</td>\n",
       "      <td>T</td>\n",
       "      <td>1</td>\n",
       "      <td>1</td>\n",
       "      <td>at_home</td>\n",
       "      <td>other</td>\n",
       "      <td>...</td>\n",
       "      <td>5</td>\n",
       "      <td>3</td>\n",
       "      <td>3</td>\n",
       "      <td>1</td>\n",
       "      <td>1</td>\n",
       "      <td>3</td>\n",
       "      <td>4</td>\n",
       "      <td>5</td>\n",
       "      <td>5</td>\n",
       "      <td>6</td>\n",
       "    </tr>\n",
       "    <tr>\n",
       "      <th>2</th>\n",
       "      <td>GP</td>\n",
       "      <td>F</td>\n",
       "      <td>15</td>\n",
       "      <td>U</td>\n",
       "      <td>LE3</td>\n",
       "      <td>T</td>\n",
       "      <td>1</td>\n",
       "      <td>1</td>\n",
       "      <td>at_home</td>\n",
       "      <td>other</td>\n",
       "      <td>...</td>\n",
       "      <td>4</td>\n",
       "      <td>3</td>\n",
       "      <td>2</td>\n",
       "      <td>2</td>\n",
       "      <td>3</td>\n",
       "      <td>3</td>\n",
       "      <td>10</td>\n",
       "      <td>7</td>\n",
       "      <td>8</td>\n",
       "      <td>10</td>\n",
       "    </tr>\n",
       "    <tr>\n",
       "      <th>3</th>\n",
       "      <td>GP</td>\n",
       "      <td>F</td>\n",
       "      <td>15</td>\n",
       "      <td>U</td>\n",
       "      <td>GT3</td>\n",
       "      <td>T</td>\n",
       "      <td>4</td>\n",
       "      <td>2</td>\n",
       "      <td>health</td>\n",
       "      <td>services</td>\n",
       "      <td>...</td>\n",
       "      <td>3</td>\n",
       "      <td>2</td>\n",
       "      <td>2</td>\n",
       "      <td>1</td>\n",
       "      <td>1</td>\n",
       "      <td>5</td>\n",
       "      <td>2</td>\n",
       "      <td>15</td>\n",
       "      <td>14</td>\n",
       "      <td>15</td>\n",
       "    </tr>\n",
       "    <tr>\n",
       "      <th>4</th>\n",
       "      <td>GP</td>\n",
       "      <td>F</td>\n",
       "      <td>16</td>\n",
       "      <td>U</td>\n",
       "      <td>GT3</td>\n",
       "      <td>T</td>\n",
       "      <td>3</td>\n",
       "      <td>3</td>\n",
       "      <td>other</td>\n",
       "      <td>other</td>\n",
       "      <td>...</td>\n",
       "      <td>4</td>\n",
       "      <td>3</td>\n",
       "      <td>2</td>\n",
       "      <td>1</td>\n",
       "      <td>2</td>\n",
       "      <td>5</td>\n",
       "      <td>4</td>\n",
       "      <td>6</td>\n",
       "      <td>10</td>\n",
       "      <td>10</td>\n",
       "    </tr>\n",
       "  </tbody>\n",
       "</table>\n",
       "<p>5 rows × 33 columns</p>\n",
       "</div>"
      ],
      "text/plain": [
       "  school sex  age address famsize Pstatus  Medu  Fedu     Mjob      Fjob ...  \\\n",
       "0     GP   F   18       U     GT3       A     4     4  at_home   teacher ...   \n",
       "1     GP   F   17       U     GT3       T     1     1  at_home     other ...   \n",
       "2     GP   F   15       U     LE3       T     1     1  at_home     other ...   \n",
       "3     GP   F   15       U     GT3       T     4     2   health  services ...   \n",
       "4     GP   F   16       U     GT3       T     3     3    other     other ...   \n",
       "\n",
       "  famrel freetime  goout  Dalc  Walc health absences  G1  G2  G3  \n",
       "0      4        3      4     1     1      3        6   5   6   6  \n",
       "1      5        3      3     1     1      3        4   5   5   6  \n",
       "2      4        3      2     2     3      3       10   7   8  10  \n",
       "3      3        2      2     1     1      5        2  15  14  15  \n",
       "4      4        3      2     1     2      5        4   6  10  10  \n",
       "\n",
       "[5 rows x 33 columns]"
      ]
     },
     "execution_count": 3,
     "metadata": {},
     "output_type": "execute_result"
    }
   ],
   "source": [
    "student_mat.head(5)"
   ]
  },
  {
   "cell_type": "markdown",
   "metadata": {},
   "source": [
    "#### Amount of math students by school"
   ]
  },
  {
   "cell_type": "code",
   "execution_count": 4,
   "metadata": {},
   "outputs": [
    {
     "data": {
      "text/html": [
       "<div>\n",
       "<style>\n",
       "    .dataframe thead tr:only-child th {\n",
       "        text-align: right;\n",
       "    }\n",
       "\n",
       "    .dataframe thead th {\n",
       "        text-align: left;\n",
       "    }\n",
       "\n",
       "    .dataframe tbody tr th {\n",
       "        vertical-align: top;\n",
       "    }\n",
       "</style>\n",
       "<table border=\"1\" class=\"dataframe\">\n",
       "  <thead>\n",
       "    <tr style=\"text-align: right;\">\n",
       "      <th></th>\n",
       "      <th>students</th>\n",
       "    </tr>\n",
       "    <tr>\n",
       "      <th>school</th>\n",
       "      <th></th>\n",
       "    </tr>\n",
       "  </thead>\n",
       "  <tbody>\n",
       "    <tr>\n",
       "      <th>GP</th>\n",
       "      <td>349</td>\n",
       "    </tr>\n",
       "    <tr>\n",
       "      <th>MS</th>\n",
       "      <td>46</td>\n",
       "    </tr>\n",
       "  </tbody>\n",
       "</table>\n",
       "</div>"
      ],
      "text/plain": [
       "        students\n",
       "school          \n",
       "GP           349\n",
       "MS            46"
      ]
     },
     "execution_count": 4,
     "metadata": {},
     "output_type": "execute_result"
    }
   ],
   "source": [
    "student_mat.groupby('school').size().to_frame('students').sort_values('students', ascending=False)"
   ]
  },
  {
   "cell_type": "markdown",
   "metadata": {},
   "source": [
    "## Portuguese course data"
   ]
  },
  {
   "cell_type": "code",
   "execution_count": 5,
   "metadata": {},
   "outputs": [
    {
     "name": "stdout",
     "output_type": "stream",
     "text": [
      "<class 'pandas.core.frame.DataFrame'>\n",
      "RangeIndex: 649 entries, 0 to 648\n",
      "Data columns (total 33 columns):\n",
      "school        649 non-null object\n",
      "sex           649 non-null object\n",
      "age           649 non-null int64\n",
      "address       649 non-null object\n",
      "famsize       649 non-null object\n",
      "Pstatus       649 non-null object\n",
      "Medu          649 non-null int64\n",
      "Fedu          649 non-null int64\n",
      "Mjob          649 non-null object\n",
      "Fjob          649 non-null object\n",
      "reason        649 non-null object\n",
      "guardian      649 non-null object\n",
      "traveltime    649 non-null int64\n",
      "studytime     649 non-null int64\n",
      "failures      649 non-null int64\n",
      "schoolsup     649 non-null object\n",
      "famsup        649 non-null object\n",
      "paid          649 non-null object\n",
      "activities    649 non-null object\n",
      "nursery       649 non-null object\n",
      "higher        649 non-null object\n",
      "internet      649 non-null object\n",
      "romantic      649 non-null object\n",
      "famrel        649 non-null int64\n",
      "freetime      649 non-null int64\n",
      "goout         649 non-null int64\n",
      "Dalc          649 non-null int64\n",
      "Walc          649 non-null int64\n",
      "health        649 non-null int64\n",
      "absences      649 non-null int64\n",
      "G1            649 non-null int64\n",
      "G2            649 non-null int64\n",
      "G3            649 non-null int64\n",
      "dtypes: int64(16), object(17)\n",
      "memory usage: 167.4+ KB\n"
     ]
    }
   ],
   "source": [
    "student_por = pd.read_csv('../data/student-alcohol-consumption/student-por.csv', low_memory=False)\n",
    "student_por.info()"
   ]
  },
  {
   "cell_type": "code",
   "execution_count": 6,
   "metadata": {},
   "outputs": [
    {
     "data": {
      "text/html": [
       "<div>\n",
       "<style>\n",
       "    .dataframe thead tr:only-child th {\n",
       "        text-align: right;\n",
       "    }\n",
       "\n",
       "    .dataframe thead th {\n",
       "        text-align: left;\n",
       "    }\n",
       "\n",
       "    .dataframe tbody tr th {\n",
       "        vertical-align: top;\n",
       "    }\n",
       "</style>\n",
       "<table border=\"1\" class=\"dataframe\">\n",
       "  <thead>\n",
       "    <tr style=\"text-align: right;\">\n",
       "      <th></th>\n",
       "      <th>school</th>\n",
       "      <th>sex</th>\n",
       "      <th>age</th>\n",
       "      <th>address</th>\n",
       "      <th>famsize</th>\n",
       "      <th>Pstatus</th>\n",
       "      <th>Medu</th>\n",
       "      <th>Fedu</th>\n",
       "      <th>Mjob</th>\n",
       "      <th>Fjob</th>\n",
       "      <th>...</th>\n",
       "      <th>famrel</th>\n",
       "      <th>freetime</th>\n",
       "      <th>goout</th>\n",
       "      <th>Dalc</th>\n",
       "      <th>Walc</th>\n",
       "      <th>health</th>\n",
       "      <th>absences</th>\n",
       "      <th>G1</th>\n",
       "      <th>G2</th>\n",
       "      <th>G3</th>\n",
       "    </tr>\n",
       "  </thead>\n",
       "  <tbody>\n",
       "    <tr>\n",
       "      <th>0</th>\n",
       "      <td>GP</td>\n",
       "      <td>F</td>\n",
       "      <td>18</td>\n",
       "      <td>U</td>\n",
       "      <td>GT3</td>\n",
       "      <td>A</td>\n",
       "      <td>4</td>\n",
       "      <td>4</td>\n",
       "      <td>at_home</td>\n",
       "      <td>teacher</td>\n",
       "      <td>...</td>\n",
       "      <td>4</td>\n",
       "      <td>3</td>\n",
       "      <td>4</td>\n",
       "      <td>1</td>\n",
       "      <td>1</td>\n",
       "      <td>3</td>\n",
       "      <td>4</td>\n",
       "      <td>0</td>\n",
       "      <td>11</td>\n",
       "      <td>11</td>\n",
       "    </tr>\n",
       "    <tr>\n",
       "      <th>1</th>\n",
       "      <td>GP</td>\n",
       "      <td>F</td>\n",
       "      <td>17</td>\n",
       "      <td>U</td>\n",
       "      <td>GT3</td>\n",
       "      <td>T</td>\n",
       "      <td>1</td>\n",
       "      <td>1</td>\n",
       "      <td>at_home</td>\n",
       "      <td>other</td>\n",
       "      <td>...</td>\n",
       "      <td>5</td>\n",
       "      <td>3</td>\n",
       "      <td>3</td>\n",
       "      <td>1</td>\n",
       "      <td>1</td>\n",
       "      <td>3</td>\n",
       "      <td>2</td>\n",
       "      <td>9</td>\n",
       "      <td>11</td>\n",
       "      <td>11</td>\n",
       "    </tr>\n",
       "    <tr>\n",
       "      <th>2</th>\n",
       "      <td>GP</td>\n",
       "      <td>F</td>\n",
       "      <td>15</td>\n",
       "      <td>U</td>\n",
       "      <td>LE3</td>\n",
       "      <td>T</td>\n",
       "      <td>1</td>\n",
       "      <td>1</td>\n",
       "      <td>at_home</td>\n",
       "      <td>other</td>\n",
       "      <td>...</td>\n",
       "      <td>4</td>\n",
       "      <td>3</td>\n",
       "      <td>2</td>\n",
       "      <td>2</td>\n",
       "      <td>3</td>\n",
       "      <td>3</td>\n",
       "      <td>6</td>\n",
       "      <td>12</td>\n",
       "      <td>13</td>\n",
       "      <td>12</td>\n",
       "    </tr>\n",
       "    <tr>\n",
       "      <th>3</th>\n",
       "      <td>GP</td>\n",
       "      <td>F</td>\n",
       "      <td>15</td>\n",
       "      <td>U</td>\n",
       "      <td>GT3</td>\n",
       "      <td>T</td>\n",
       "      <td>4</td>\n",
       "      <td>2</td>\n",
       "      <td>health</td>\n",
       "      <td>services</td>\n",
       "      <td>...</td>\n",
       "      <td>3</td>\n",
       "      <td>2</td>\n",
       "      <td>2</td>\n",
       "      <td>1</td>\n",
       "      <td>1</td>\n",
       "      <td>5</td>\n",
       "      <td>0</td>\n",
       "      <td>14</td>\n",
       "      <td>14</td>\n",
       "      <td>14</td>\n",
       "    </tr>\n",
       "    <tr>\n",
       "      <th>4</th>\n",
       "      <td>GP</td>\n",
       "      <td>F</td>\n",
       "      <td>16</td>\n",
       "      <td>U</td>\n",
       "      <td>GT3</td>\n",
       "      <td>T</td>\n",
       "      <td>3</td>\n",
       "      <td>3</td>\n",
       "      <td>other</td>\n",
       "      <td>other</td>\n",
       "      <td>...</td>\n",
       "      <td>4</td>\n",
       "      <td>3</td>\n",
       "      <td>2</td>\n",
       "      <td>1</td>\n",
       "      <td>2</td>\n",
       "      <td>5</td>\n",
       "      <td>0</td>\n",
       "      <td>11</td>\n",
       "      <td>13</td>\n",
       "      <td>13</td>\n",
       "    </tr>\n",
       "  </tbody>\n",
       "</table>\n",
       "<p>5 rows × 33 columns</p>\n",
       "</div>"
      ],
      "text/plain": [
       "  school sex  age address famsize Pstatus  Medu  Fedu     Mjob      Fjob ...  \\\n",
       "0     GP   F   18       U     GT3       A     4     4  at_home   teacher ...   \n",
       "1     GP   F   17       U     GT3       T     1     1  at_home     other ...   \n",
       "2     GP   F   15       U     LE3       T     1     1  at_home     other ...   \n",
       "3     GP   F   15       U     GT3       T     4     2   health  services ...   \n",
       "4     GP   F   16       U     GT3       T     3     3    other     other ...   \n",
       "\n",
       "  famrel freetime  goout  Dalc  Walc health absences  G1  G2  G3  \n",
       "0      4        3      4     1     1      3        4   0  11  11  \n",
       "1      5        3      3     1     1      3        2   9  11  11  \n",
       "2      4        3      2     2     3      3        6  12  13  12  \n",
       "3      3        2      2     1     1      5        0  14  14  14  \n",
       "4      4        3      2     1     2      5        0  11  13  13  \n",
       "\n",
       "[5 rows x 33 columns]"
      ]
     },
     "execution_count": 6,
     "metadata": {},
     "output_type": "execute_result"
    }
   ],
   "source": [
    "student_por.head(5)"
   ]
  },
  {
   "cell_type": "markdown",
   "metadata": {},
   "source": [
    "#### Amount of portuguese students by school"
   ]
  },
  {
   "cell_type": "code",
   "execution_count": 7,
   "metadata": {},
   "outputs": [
    {
     "data": {
      "text/html": [
       "<div>\n",
       "<style>\n",
       "    .dataframe thead tr:only-child th {\n",
       "        text-align: right;\n",
       "    }\n",
       "\n",
       "    .dataframe thead th {\n",
       "        text-align: left;\n",
       "    }\n",
       "\n",
       "    .dataframe tbody tr th {\n",
       "        vertical-align: top;\n",
       "    }\n",
       "</style>\n",
       "<table border=\"1\" class=\"dataframe\">\n",
       "  <thead>\n",
       "    <tr style=\"text-align: right;\">\n",
       "      <th></th>\n",
       "      <th>students</th>\n",
       "    </tr>\n",
       "    <tr>\n",
       "      <th>school</th>\n",
       "      <th></th>\n",
       "    </tr>\n",
       "  </thead>\n",
       "  <tbody>\n",
       "    <tr>\n",
       "      <th>GP</th>\n",
       "      <td>423</td>\n",
       "    </tr>\n",
       "    <tr>\n",
       "      <th>MS</th>\n",
       "      <td>226</td>\n",
       "    </tr>\n",
       "  </tbody>\n",
       "</table>\n",
       "</div>"
      ],
      "text/plain": [
       "        students\n",
       "school          \n",
       "GP           423\n",
       "MS           226"
      ]
     },
     "execution_count": 7,
     "metadata": {},
     "output_type": "execute_result"
    }
   ],
   "source": [
    "student_por.groupby('school').size().to_frame('students').sort_values('students', ascending=False)"
   ]
  },
  {
   "cell_type": "markdown",
   "metadata": {},
   "source": [
    "## Merged data\n",
    "\n",
    "Combined Data Frame of both courses."
   ]
  },
  {
   "cell_type": "code",
   "execution_count": 8,
   "metadata": {},
   "outputs": [],
   "source": [
    "#student_mat = student_mat.assign(course='math')\n",
    "#student_por = student_mat.assign(course='portuguese')\n",
    "students = pd.concat([student_mat.assign(course='math'), student_por.assign(course='portuguese')])"
   ]
  },
  {
   "cell_type": "markdown",
   "metadata": {},
   "source": [
    "Histogram of final grades:"
   ]
  },
  {
   "cell_type": "code",
   "execution_count": 9,
   "metadata": {},
   "outputs": [
    {
     "data": {
      "text/plain": [
       "<matplotlib.axes._subplots.AxesSubplot at 0x7fc9a8b681d0>"
      ]
     },
     "execution_count": 9,
     "metadata": {},
     "output_type": "execute_result"
    },
    {
     "data": {
      "image/png": "[encoded data removed]",
      "text/plain": [
       "<matplotlib.figure.Figure at 0x7fc9a9432f50>"
      ]
     },
     "metadata": {},
     "output_type": "display_data"
    }
   ],
   "source": [
    "students['G3'].plot.hist()"
   ]
  },
  {
   "cell_type": "markdown",
   "metadata": {},
   "source": [
    "### Best school\n",
    "\n",
    "We'll start adding a new column with the average grade of each student."
   ]
  },
  {
   "cell_type": "code",
   "execution_count": 10,
   "metadata": {
    "collapsed": true
   },
   "outputs": [],
   "source": [
    "students = students.assign(averagegrade = (students.G1 + students.G2 + students.G3) / 3)"
   ]
  },
  {
   "cell_type": "markdown",
   "metadata": {},
   "source": [
    "Now let's see which school has the best average grade:"
   ]
  },
  {
   "cell_type": "code",
   "execution_count": 11,
   "metadata": {},
   "outputs": [
    {
     "data": {
      "text/plain": [
       "school\n",
       "GP    11.558290\n",
       "MS    10.441176\n",
       "Name: averagegrade, dtype: float64"
      ]
     },
     "execution_count": 11,
     "metadata": {},
     "output_type": "execute_result"
    }
   ],
   "source": [
    "students.groupby(['school']).mean()['averagegrade']"
   ]
  },
  {
   "cell_type": "markdown",
   "metadata": {},
   "source": [
    "The school Mousinho da Silveira has a higher average grade than the school Gabriel Pereira in general. But let's see what happens when we analyze each course separately:"
   ]
  },
  {
   "cell_type": "code",
   "execution_count": 12,
   "metadata": {},
   "outputs": [
    {
     "data": {
      "text/plain": [
       "school\n",
       "GP    10.737345\n",
       "MS    10.239130\n",
       "Name: averagegrade, dtype: float64"
      ]
     },
     "execution_count": 12,
     "metadata": {},
     "output_type": "execute_result"
    }
   ],
   "source": [
    "students.loc[students.course == 'math',:].groupby(['school']).mean()['averagegrade']"
   ]
  },
  {
   "cell_type": "code",
   "execution_count": 13,
   "metadata": {},
   "outputs": [
    {
     "data": {
      "text/plain": [
       "school\n",
       "GP    12.235619\n",
       "MS    10.482301\n",
       "Name: averagegrade, dtype: float64"
      ]
     },
     "execution_count": 13,
     "metadata": {},
     "output_type": "execute_result"
    }
   ],
   "source": [
    "students.loc[students.course == 'portuguese',:].groupby(['school']).mean()['averagegrade']"
   ]
  },
  {
   "cell_type": "markdown",
   "metadata": {},
   "source": [
    "### Comparison of parent's education level by residence"
   ]
  },
  {
   "cell_type": "code",
   "execution_count": 14,
   "metadata": {},
   "outputs": [
    {
     "data": {
      "text/plain": [
       "address\n",
       "R    2.164912\n",
       "U    2.471673\n",
       "Name: Fedu, dtype: float64"
      ]
     },
     "execution_count": 14,
     "metadata": {},
     "output_type": "execute_result"
    }
   ],
   "source": [
    "students.groupby(['address']).mean()['Fedu']"
   ]
  },
  {
   "cell_type": "code",
   "execution_count": 15,
   "metadata": {},
   "outputs": [
    {
     "data": {
      "text/plain": [
       "address\n",
       "R    2.273684\n",
       "U    2.727273\n",
       "Name: Medu, dtype: float64"
      ]
     },
     "execution_count": 15,
     "metadata": {},
     "output_type": "execute_result"
    }
   ],
   "source": [
    "students.groupby(['address']).mean()['Medu']"
   ]
  },
  {
   "cell_type": "markdown",
   "metadata": {},
   "source": [
    "The parents of the students who live in urban areas have a higher education level than those who live in rural areas."
   ]
  },
  {
   "cell_type": "markdown",
   "metadata": {},
   "source": [
    "### Incluence of alcohol consumption during the weekend on health and study time"
   ]
  },
  {
   "cell_type": "code",
   "execution_count": 16,
   "metadata": {},
   "outputs": [
    {
     "data": {
      "text/plain": [
       "<matplotlib.axes._subplots.AxesSubplot at 0x7fc9a67ecc90>"
      ]
     },
     "execution_count": 16,
     "metadata": {},
     "output_type": "execute_result"
    },
    {
     "data": {
      "image/png": "[encoded data removed]",
      "text/plain": [
       "<matplotlib.figure.Figure at 0x7fc9a6a4b590>"
      ]
     },
     "metadata": {},
     "output_type": "display_data"
    }
   ],
   "source": [
    "students.loc[:,['Walc','studytime','health']].groupby('Walc').mean().plot()"
   ]
  },
  {
   "cell_type": "code",
   "execution_count": 17,
   "metadata": {},
   "outputs": [
    {
     "data": {
      "text/html": [
       "<div>\n",
       "<style>\n",
       "    .dataframe thead tr:only-child th {\n",
       "        text-align: right;\n",
       "    }\n",
       "\n",
       "    .dataframe thead th {\n",
       "        text-align: left;\n",
       "    }\n",
       "\n",
       "    .dataframe tbody tr th {\n",
       "        vertical-align: top;\n",
       "    }\n",
       "</style>\n",
       "<table border=\"1\" class=\"dataframe\">\n",
       "  <thead>\n",
       "    <tr style=\"text-align: right;\">\n",
       "      <th></th>\n",
       "      <th>age</th>\n",
       "      <th>Medu</th>\n",
       "      <th>Fedu</th>\n",
       "      <th>traveltime</th>\n",
       "      <th>studytime</th>\n",
       "      <th>failures</th>\n",
       "      <th>famrel</th>\n",
       "      <th>freetime</th>\n",
       "      <th>goout</th>\n",
       "      <th>Dalc</th>\n",
       "      <th>Walc</th>\n",
       "      <th>health</th>\n",
       "      <th>absences</th>\n",
       "      <th>G1</th>\n",
       "      <th>G2</th>\n",
       "      <th>G3</th>\n",
       "      <th>averagegrade</th>\n",
       "    </tr>\n",
       "  </thead>\n",
       "  <tbody>\n",
       "    <tr>\n",
       "      <th>age</th>\n",
       "      <td>1.000000</td>\n",
       "      <td>-0.130196</td>\n",
       "      <td>-0.138521</td>\n",
       "      <td>0.049216</td>\n",
       "      <td>-0.007870</td>\n",
       "      <td>0.282364</td>\n",
       "      <td>0.007162</td>\n",
       "      <td>0.002645</td>\n",
       "      <td>0.118510</td>\n",
       "      <td>0.133453</td>\n",
       "      <td>0.098291</td>\n",
       "      <td>-0.029129</td>\n",
       "      <td>0.153196</td>\n",
       "      <td>-0.124121</td>\n",
       "      <td>-0.119475</td>\n",
       "      <td>-0.125282</td>\n",
       "      <td>-0.129135</td>\n",
       "    </tr>\n",
       "    <tr>\n",
       "      <th>Medu</th>\n",
       "      <td>-0.130196</td>\n",
       "      <td>1.000000</td>\n",
       "      <td>0.642063</td>\n",
       "      <td>-0.238181</td>\n",
       "      <td>0.090616</td>\n",
       "      <td>-0.187769</td>\n",
       "      <td>0.015004</td>\n",
       "      <td>0.001054</td>\n",
       "      <td>0.025614</td>\n",
       "      <td>0.001515</td>\n",
       "      <td>-0.029331</td>\n",
       "      <td>-0.013254</td>\n",
       "      <td>0.059708</td>\n",
       "      <td>0.226101</td>\n",
       "      <td>0.224662</td>\n",
       "      <td>0.201472</td>\n",
       "      <td>0.226919</td>\n",
       "    </tr>\n",
       "    <tr>\n",
       "      <th>Fedu</th>\n",
       "      <td>-0.138521</td>\n",
       "      <td>0.642063</td>\n",
       "      <td>1.000000</td>\n",
       "      <td>-0.196328</td>\n",
       "      <td>0.033458</td>\n",
       "      <td>-0.191390</td>\n",
       "      <td>0.013066</td>\n",
       "      <td>0.002142</td>\n",
       "      <td>0.030075</td>\n",
       "      <td>-0.000165</td>\n",
       "      <td>0.019524</td>\n",
       "      <td>0.034288</td>\n",
       "      <td>0.040829</td>\n",
       "      <td>0.195898</td>\n",
       "      <td>0.182634</td>\n",
       "      <td>0.159796</td>\n",
       "      <td>0.186610</td>\n",
       "    </tr>\n",
       "    <tr>\n",
       "      <th>traveltime</th>\n",
       "      <td>0.049216</td>\n",
       "      <td>-0.238181</td>\n",
       "      <td>-0.196328</td>\n",
       "      <td>1.000000</td>\n",
       "      <td>-0.081328</td>\n",
       "      <td>0.087177</td>\n",
       "      <td>-0.012578</td>\n",
       "      <td>-0.007403</td>\n",
       "      <td>0.049740</td>\n",
       "      <td>0.109423</td>\n",
       "      <td>0.084292</td>\n",
       "      <td>-0.029002</td>\n",
       "      <td>-0.022669</td>\n",
       "      <td>-0.121053</td>\n",
       "      <td>-0.140163</td>\n",
       "      <td>-0.102627</td>\n",
       "      <td>-0.126157</td>\n",
       "    </tr>\n",
       "    <tr>\n",
       "      <th>studytime</th>\n",
       "      <td>-0.007870</td>\n",
       "      <td>0.090616</td>\n",
       "      <td>0.033458</td>\n",
       "      <td>-0.081328</td>\n",
       "      <td>1.000000</td>\n",
       "      <td>-0.152024</td>\n",
       "      <td>0.012324</td>\n",
       "      <td>-0.094429</td>\n",
       "      <td>-0.072941</td>\n",
       "      <td>-0.159665</td>\n",
       "      <td>-0.229073</td>\n",
       "      <td>-0.063044</td>\n",
       "      <td>-0.075594</td>\n",
       "      <td>0.211314</td>\n",
       "      <td>0.183167</td>\n",
       "      <td>0.161629</td>\n",
       "      <td>0.192288</td>\n",
       "    </tr>\n",
       "    <tr>\n",
       "      <th>failures</th>\n",
       "      <td>0.282364</td>\n",
       "      <td>-0.187769</td>\n",
       "      <td>-0.191390</td>\n",
       "      <td>0.087177</td>\n",
       "      <td>-0.152024</td>\n",
       "      <td>1.000000</td>\n",
       "      <td>-0.053676</td>\n",
       "      <td>0.102679</td>\n",
       "      <td>0.074683</td>\n",
       "      <td>0.116336</td>\n",
       "      <td>0.107432</td>\n",
       "      <td>0.048311</td>\n",
       "      <td>0.099998</td>\n",
       "      <td>-0.374175</td>\n",
       "      <td>-0.377172</td>\n",
       "      <td>-0.383145</td>\n",
       "      <td>-0.397262</td>\n",
       "    </tr>\n",
       "    <tr>\n",
       "      <th>famrel</th>\n",
       "      <td>0.007162</td>\n",
       "      <td>0.015004</td>\n",
       "      <td>0.013066</td>\n",
       "      <td>-0.012578</td>\n",
       "      <td>0.012324</td>\n",
       "      <td>-0.053676</td>\n",
       "      <td>1.000000</td>\n",
       "      <td>0.136901</td>\n",
       "      <td>0.080619</td>\n",
       "      <td>-0.076483</td>\n",
       "      <td>-0.100663</td>\n",
       "      <td>0.104101</td>\n",
       "      <td>-0.062171</td>\n",
       "      <td>0.036947</td>\n",
       "      <td>0.042054</td>\n",
       "      <td>0.054461</td>\n",
       "      <td>0.047518</td>\n",
       "    </tr>\n",
       "    <tr>\n",
       "      <th>freetime</th>\n",
       "      <td>0.002645</td>\n",
       "      <td>0.001054</td>\n",
       "      <td>0.002142</td>\n",
       "      <td>-0.007403</td>\n",
       "      <td>-0.094429</td>\n",
       "      <td>0.102679</td>\n",
       "      <td>0.136901</td>\n",
       "      <td>1.000000</td>\n",
       "      <td>0.323556</td>\n",
       "      <td>0.144979</td>\n",
       "      <td>0.130377</td>\n",
       "      <td>0.081517</td>\n",
       "      <td>-0.032079</td>\n",
       "      <td>-0.051985</td>\n",
       "      <td>-0.068952</td>\n",
       "      <td>-0.064890</td>\n",
       "      <td>-0.065489</td>\n",
       "    </tr>\n",
       "    <tr>\n",
       "      <th>goout</th>\n",
       "      <td>0.118510</td>\n",
       "      <td>0.025614</td>\n",
       "      <td>0.030075</td>\n",
       "      <td>0.049740</td>\n",
       "      <td>-0.072941</td>\n",
       "      <td>0.074683</td>\n",
       "      <td>0.080619</td>\n",
       "      <td>0.323556</td>\n",
       "      <td>1.000000</td>\n",
       "      <td>0.253135</td>\n",
       "      <td>0.399794</td>\n",
       "      <td>-0.013736</td>\n",
       "      <td>0.056142</td>\n",
       "      <td>-0.101163</td>\n",
       "      <td>-0.108411</td>\n",
       "      <td>-0.097877</td>\n",
       "      <td>-0.107309</td>\n",
       "    </tr>\n",
       "    <tr>\n",
       "      <th>Dalc</th>\n",
       "      <td>0.133453</td>\n",
       "      <td>0.001515</td>\n",
       "      <td>-0.000165</td>\n",
       "      <td>0.109423</td>\n",
       "      <td>-0.159665</td>\n",
       "      <td>0.116336</td>\n",
       "      <td>-0.076483</td>\n",
       "      <td>0.144979</td>\n",
       "      <td>0.253135</td>\n",
       "      <td>1.000000</td>\n",
       "      <td>0.627814</td>\n",
       "      <td>0.065515</td>\n",
       "      <td>0.132867</td>\n",
       "      <td>-0.150943</td>\n",
       "      <td>-0.131576</td>\n",
       "      <td>-0.129642</td>\n",
       "      <td>-0.143283</td>\n",
       "    </tr>\n",
       "    <tr>\n",
       "      <th>Walc</th>\n",
       "      <td>0.098291</td>\n",
       "      <td>-0.029331</td>\n",
       "      <td>0.019524</td>\n",
       "      <td>0.084292</td>\n",
       "      <td>-0.229073</td>\n",
       "      <td>0.107432</td>\n",
       "      <td>-0.100663</td>\n",
       "      <td>0.130377</td>\n",
       "      <td>0.399794</td>\n",
       "      <td>0.627814</td>\n",
       "      <td>1.000000</td>\n",
       "      <td>0.106669</td>\n",
       "      <td>0.139703</td>\n",
       "      <td>-0.142401</td>\n",
       "      <td>-0.128114</td>\n",
       "      <td>-0.115740</td>\n",
       "      <td>-0.133902</td>\n",
       "    </tr>\n",
       "    <tr>\n",
       "      <th>health</th>\n",
       "      <td>-0.029129</td>\n",
       "      <td>-0.013254</td>\n",
       "      <td>0.034288</td>\n",
       "      <td>-0.029002</td>\n",
       "      <td>-0.063044</td>\n",
       "      <td>0.048311</td>\n",
       "      <td>0.104101</td>\n",
       "      <td>0.081517</td>\n",
       "      <td>-0.013736</td>\n",
       "      <td>0.065515</td>\n",
       "      <td>0.106669</td>\n",
       "      <td>1.000000</td>\n",
       "      <td>-0.027479</td>\n",
       "      <td>-0.060478</td>\n",
       "      <td>-0.088001</td>\n",
       "      <td>-0.080079</td>\n",
       "      <td>-0.080672</td>\n",
       "    </tr>\n",
       "    <tr>\n",
       "      <th>absences</th>\n",
       "      <td>0.153196</td>\n",
       "      <td>0.059708</td>\n",
       "      <td>0.040829</td>\n",
       "      <td>-0.022669</td>\n",
       "      <td>-0.075594</td>\n",
       "      <td>0.099998</td>\n",
       "      <td>-0.062171</td>\n",
       "      <td>-0.032079</td>\n",
       "      <td>0.056142</td>\n",
       "      <td>0.132867</td>\n",
       "      <td>0.139703</td>\n",
       "      <td>-0.027479</td>\n",
       "      <td>1.000000</td>\n",
       "      <td>-0.092425</td>\n",
       "      <td>-0.089332</td>\n",
       "      <td>-0.045671</td>\n",
       "      <td>-0.077224</td>\n",
       "    </tr>\n",
       "    <tr>\n",
       "      <th>G1</th>\n",
       "      <td>-0.124121</td>\n",
       "      <td>0.226101</td>\n",
       "      <td>0.195898</td>\n",
       "      <td>-0.121053</td>\n",
       "      <td>0.211314</td>\n",
       "      <td>-0.374175</td>\n",
       "      <td>0.036947</td>\n",
       "      <td>-0.051985</td>\n",
       "      <td>-0.101163</td>\n",
       "      <td>-0.150943</td>\n",
       "      <td>-0.142401</td>\n",
       "      <td>-0.060478</td>\n",
       "      <td>-0.092425</td>\n",
       "      <td>1.000000</td>\n",
       "      <td>0.858739</td>\n",
       "      <td>0.809142</td>\n",
       "      <td>0.924937</td>\n",
       "    </tr>\n",
       "    <tr>\n",
       "      <th>G2</th>\n",
       "      <td>-0.119475</td>\n",
       "      <td>0.224662</td>\n",
       "      <td>0.182634</td>\n",
       "      <td>-0.140163</td>\n",
       "      <td>0.183167</td>\n",
       "      <td>-0.377172</td>\n",
       "      <td>0.042054</td>\n",
       "      <td>-0.068952</td>\n",
       "      <td>-0.108411</td>\n",
       "      <td>-0.131576</td>\n",
       "      <td>-0.128114</td>\n",
       "      <td>-0.088001</td>\n",
       "      <td>-0.089332</td>\n",
       "      <td>0.858739</td>\n",
       "      <td>1.000000</td>\n",
       "      <td>0.910743</td>\n",
       "      <td>0.970015</td>\n",
       "    </tr>\n",
       "    <tr>\n",
       "      <th>G3</th>\n",
       "      <td>-0.125282</td>\n",
       "      <td>0.201472</td>\n",
       "      <td>0.159796</td>\n",
       "      <td>-0.102627</td>\n",
       "      <td>0.161629</td>\n",
       "      <td>-0.383145</td>\n",
       "      <td>0.054461</td>\n",
       "      <td>-0.064890</td>\n",
       "      <td>-0.097877</td>\n",
       "      <td>-0.129642</td>\n",
       "      <td>-0.115740</td>\n",
       "      <td>-0.080079</td>\n",
       "      <td>-0.045671</td>\n",
       "      <td>0.809142</td>\n",
       "      <td>0.910743</td>\n",
       "      <td>1.000000</td>\n",
       "      <td>0.960050</td>\n",
       "    </tr>\n",
       "    <tr>\n",
       "      <th>averagegrade</th>\n",
       "      <td>-0.129135</td>\n",
       "      <td>0.226919</td>\n",
       "      <td>0.186610</td>\n",
       "      <td>-0.126157</td>\n",
       "      <td>0.192288</td>\n",
       "      <td>-0.397262</td>\n",
       "      <td>0.047518</td>\n",
       "      <td>-0.065489</td>\n",
       "      <td>-0.107309</td>\n",
       "      <td>-0.143283</td>\n",
       "      <td>-0.133902</td>\n",
       "      <td>-0.080672</td>\n",
       "      <td>-0.077224</td>\n",
       "      <td>0.924937</td>\n",
       "      <td>0.970015</td>\n",
       "      <td>0.960050</td>\n",
       "      <td>1.000000</td>\n",
       "    </tr>\n",
       "  </tbody>\n",
       "</table>\n",
       "</div>"
      ],
      "text/plain": [
       "                   age      Medu      Fedu  traveltime  studytime  failures  \\\n",
       "age           1.000000 -0.130196 -0.138521    0.049216  -0.007870  0.282364   \n",
       "Medu         -0.130196  1.000000  0.642063   -0.238181   0.090616 -0.187769   \n",
       "Fedu         -0.138521  0.642063  1.000000   -0.196328   0.033458 -0.191390   \n",
       "traveltime    0.049216 -0.238181 -0.196328    1.000000  -0.081328  0.087177   \n",
       "studytime    -0.007870  0.090616  0.033458   -0.081328   1.000000 -0.152024   \n",
       "failures      0.282364 -0.187769 -0.191390    0.087177  -0.152024  1.000000   \n",
       "famrel        0.007162  0.015004  0.013066   -0.012578   0.012324 -0.053676   \n",
       "freetime      0.002645  0.001054  0.002142   -0.007403  -0.094429  0.102679   \n",
       "goout         0.118510  0.025614  0.030075    0.049740  -0.072941  0.074683   \n",
       "Dalc          0.133453  0.001515 -0.000165    0.109423  -0.159665  0.116336   \n",
       "Walc          0.098291 -0.029331  0.019524    0.084292  -0.229073  0.107432   \n",
       "health       -0.029129 -0.013254  0.034288   -0.029002  -0.063044  0.048311   \n",
       "absences      0.153196  0.059708  0.040829   -0.022669  -0.075594  0.099998   \n",
       "G1           -0.124121  0.226101  0.195898   -0.121053   0.211314 -0.374175   \n",
       "G2           -0.119475  0.224662  0.182634   -0.140163   0.183167 -0.377172   \n",
       "G3           -0.125282  0.201472  0.159796   -0.102627   0.161629 -0.383145   \n",
       "averagegrade -0.129135  0.226919  0.186610   -0.126157   0.192288 -0.397262   \n",
       "\n",
       "                famrel  freetime     goout      Dalc      Walc    health  \\\n",
       "age           0.007162  0.002645  0.118510  0.133453  0.098291 -0.029129   \n",
       "Medu          0.015004  0.001054  0.025614  0.001515 -0.029331 -0.013254   \n",
       "Fedu          0.013066  0.002142  0.030075 -0.000165  0.019524  0.034288   \n",
       "traveltime   -0.012578 -0.007403  0.049740  0.109423  0.084292 -0.029002   \n",
       "studytime     0.012324 -0.094429 -0.072941 -0.159665 -0.229073 -0.063044   \n",
       "failures     -0.053676  0.102679  0.074683  0.116336  0.107432  0.048311   \n",
       "famrel        1.000000  0.136901  0.080619 -0.076483 -0.100663  0.104101   \n",
       "freetime      0.136901  1.000000  0.323556  0.144979  0.130377  0.081517   \n",
       "goout         0.080619  0.323556  1.000000  0.253135  0.399794 -0.013736   \n",
       "Dalc         -0.076483  0.144979  0.253135  1.000000  0.627814  0.065515   \n",
       "Walc         -0.100663  0.130377  0.399794  0.627814  1.000000  0.106669   \n",
       "health        0.104101  0.081517 -0.013736  0.065515  0.106669  1.000000   \n",
       "absences     -0.062171 -0.032079  0.056142  0.132867  0.139703 -0.027479   \n",
       "G1            0.036947 -0.051985 -0.101163 -0.150943 -0.142401 -0.060478   \n",
       "G2            0.042054 -0.068952 -0.108411 -0.131576 -0.128114 -0.088001   \n",
       "G3            0.054461 -0.064890 -0.097877 -0.129642 -0.115740 -0.080079   \n",
       "averagegrade  0.047518 -0.065489 -0.107309 -0.143283 -0.133902 -0.080672   \n",
       "\n",
       "              absences        G1        G2        G3  averagegrade  \n",
       "age           0.153196 -0.124121 -0.119475 -0.125282     -0.129135  \n",
       "Medu          0.059708  0.226101  0.224662  0.201472      0.226919  \n",
       "Fedu          0.040829  0.195898  0.182634  0.159796      0.186610  \n",
       "traveltime   -0.022669 -0.121053 -0.140163 -0.102627     -0.126157  \n",
       "studytime    -0.075594  0.211314  0.183167  0.161629      0.192288  \n",
       "failures      0.099998 -0.374175 -0.377172 -0.383145     -0.397262  \n",
       "famrel       -0.062171  0.036947  0.042054  0.054461      0.047518  \n",
       "freetime     -0.032079 -0.051985 -0.068952 -0.064890     -0.065489  \n",
       "goout         0.056142 -0.101163 -0.108411 -0.097877     -0.107309  \n",
       "Dalc          0.132867 -0.150943 -0.131576 -0.129642     -0.143283  \n",
       "Walc          0.139703 -0.142401 -0.128114 -0.115740     -0.133902  \n",
       "health       -0.027479 -0.060478 -0.088001 -0.080079     -0.080672  \n",
       "absences      1.000000 -0.092425 -0.089332 -0.045671     -0.077224  \n",
       "G1           -0.092425  1.000000  0.858739  0.809142      0.924937  \n",
       "G2           -0.089332  0.858739  1.000000  0.910743      0.970015  \n",
       "G3           -0.045671  0.809142  0.910743  1.000000      0.960050  \n",
       "averagegrade -0.077224  0.924937  0.970015  0.960050      1.000000  "
      ]
     },
     "execution_count": 17,
     "metadata": {},
     "output_type": "execute_result"
    }
   ],
   "source": [
    "students.corr()"
   ]
  },
  {
   "cell_type": "markdown",
   "metadata": {},
   "source": [
    "### Average grade according to the reason of school choice"
   ]
  },
  {
   "cell_type": "code",
   "execution_count": 18,
   "metadata": {},
   "outputs": [
    {
     "data": {
      "text/plain": [
       "reason\n",
       "course        10.879070\n",
       "home          11.338501\n",
       "other         10.839506\n",
       "reputation    12.052419\n",
       "Name: averagegrade, dtype: float64"
      ]
     },
     "execution_count": 18,
     "metadata": {},
     "output_type": "execute_result"
    }
   ],
   "source": [
    "students.groupby('reason').mean()['averagegrade']"
   ]
  },
  {
   "cell_type": "markdown",
   "metadata": {},
   "source": [
    "### Average grade according to Internet access"
   ]
  },
  {
   "cell_type": "code",
   "execution_count": 19,
   "metadata": {},
   "outputs": [
    {
     "data": {
      "text/plain": [
       "internet\n",
       "no     10.533026\n",
       "yes    11.459895\n",
       "Name: averagegrade, dtype: float64"
      ]
     },
     "execution_count": 19,
     "metadata": {},
     "output_type": "execute_result"
    }
   ],
   "source": [
    "students.groupby('internet').mean()['averagegrade']"
   ]
  },
  {
   "cell_type": "markdown",
   "metadata": {},
   "source": [
    "### Influence of relationship status on alcohol consumption"
   ]
  },
  {
   "cell_type": "code",
   "execution_count": 20,
   "metadata": {},
   "outputs": [
    {
     "data": {
      "text/plain": [
       "romantic\n",
       "no     1.463596\n",
       "yes    1.549865\n",
       "Name: Dalc, dtype: float64"
      ]
     },
     "execution_count": 20,
     "metadata": {},
     "output_type": "execute_result"
    }
   ],
   "source": [
    "students.groupby('romantic').mean()['Dalc']"
   ]
  },
  {
   "cell_type": "code",
   "execution_count": 21,
   "metadata": {},
   "outputs": [
    {
     "data": {
      "text/plain": [
       "romantic\n",
       "no     2.300149\n",
       "yes    2.256065\n",
       "Name: Walc, dtype: float64"
      ]
     },
     "execution_count": 21,
     "metadata": {},
     "output_type": "execute_result"
    }
   ],
   "source": [
    "students.groupby('romantic').mean()['Walc']"
   ]
  }
 ],
 "metadata": {
  "kernelspec": {
   "display_name": "Python 2",
   "language": "python",
   "name": "python2"
  },
  "language_info": {
   "codemirror_mode": {
    "name": "ipython",
    "version": 2
   },
   "file_extension": ".py",
   "mimetype": "text/x-python",
   "name": "python",
   "nbconvert_exporter": "python",
   "pygments_lexer": "ipython2",
   "version": "2.7.12"
  }
 },
 "nbformat": 4,
 "nbformat_minor": 2
}
