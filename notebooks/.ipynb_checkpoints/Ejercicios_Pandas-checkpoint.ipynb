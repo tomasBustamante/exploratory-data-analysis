{
 "cells": [
  {
   "cell_type": "markdown",
   "metadata": {},
   "source": [
    "## Ejercicios de análisis exploratorio de datos con Python Pandas"
   ]
  },
  {
   "cell_type": "markdown",
   "metadata": {},
   "source": [
    "- [Ejercicio 1](#ejercicio-1): 2017 1er cuatrimestre (primera oportunidad)\n",
    "- [Ejercicio 2](#ejercicio-2): 2017 2do cuatrimestre (primera oportunidad)\n",
    "- [Ejercicio 3](#ejercicio-3): 2017 2do cuatrimestre (segunda oportunidad)\n",
    "- [Ejercicio 4](#ejercicio-4): 2018 1er cuatrimestre (primera oportunidad)\n",
    "- [Ejercicio 5](#ejercicio-5): 2018 1er cuatrimestre (primera oportunidad)\n",
    "- [Ejercicio 6](#ejercicio-6): 2018 1er cuatrimestre (segunda oportunidad)"
   ]
  },
  {
   "cell_type": "code",
   "execution_count": 1,
   "metadata": {},
   "outputs": [],
   "source": [
    "import pandas as pd\n",
    "import numpy as np\n",
    "import datetime as dt\n",
    "import matplotlib.pyplot as plt\n",
    "import pyspark\n",
    "import math"
   ]
  },
  {
   "cell_type": "markdown",
   "metadata": {},
   "source": [
    "### Ejercicio 1\n",
    "\n",
    "** 2017 1er cuatrimestre (primera oportunidad)**\n",
    "\n",
    "Un sitio de Ebooks tiene información sobre los reviews que los usuarios hacen de sus libros en un DataFrame con formato (user_id, book_id, rating, timestamp). Por otro lado tenemos información en otro DataFrame que bajamos de GoodReads: (book_id, book_name, avg_rating). Podemos suponer que los Ids de los libros son compatibles. Se pide usar Python Pandas para:\n",
    "\n",
    "  a) obtener un DataFrame que indique el TOP5 de Ebooks en el sitio de Ebooks.\n",
    "(Para este punto se puede ignorar el segundo DataFrame) (7,5 ptos);\n",
    "\n",
    "  b) obtener un DataFrame que indique qué libros tienen una diferencia de rating\n",
    "promedio mayor al 20% entre el sitio de Ebooks y GoodReads (7,5 ptos).\n",
    "\n",
    "#### Criterio de corrección\n",
    "\n",
    "Para el punto a) Si no tiene en cuenta un mínimo de ratings por libro antes de considerar el promedio -3. Si\n",
    "agrupa mal o calcula mal el promedio -5, si la lógica está mal vale cero. Errores mínimos de sintaxis no serán tenidos\n",
    "en cuenta, pero si utilizan funciones no existentes se descuentan puntos en función de que hagan. Para el punto b)\n",
    "Al igual que antes, si calculan el promedio sin evaluar la cantidad de ratings para un book_id dado -3, si hace mal el\n",
    "join/merge -5, si hacen mal la validación de la condición -3.\n"
   ]
  },
  {
   "cell_type": "markdown",
   "metadata": {},
   "source": [
    "#### Lectura de los datos"
   ]
  },
  {
   "cell_type": "code",
   "execution_count": 2,
   "metadata": {},
   "outputs": [
    {
     "data": {
      "text/html": [
       "<div>\n",
       "<style scoped>\n",
       "    .dataframe tbody tr th:only-of-type {\n",
       "        vertical-align: middle;\n",
       "    }\n",
       "\n",
       "    .dataframe tbody tr th {\n",
       "        vertical-align: top;\n",
       "    }\n",
       "\n",
       "    .dataframe thead th {\n",
       "        text-align: right;\n",
       "    }\n",
       "</style>\n",
       "<table border=\"1\" class=\"dataframe\">\n",
       "  <thead>\n",
       "    <tr style=\"text-align: right;\">\n",
       "      <th></th>\n",
       "      <th>user_id</th>\n",
       "      <th>book_id</th>\n",
       "      <th>rating</th>\n",
       "      <th>timestamp</th>\n",
       "    </tr>\n",
       "  </thead>\n",
       "  <tbody>\n",
       "    <tr>\n",
       "      <th>0</th>\n",
       "      <td>4</td>\n",
       "      <td>2</td>\n",
       "      <td>9</td>\n",
       "      <td>2017-05-04</td>\n",
       "    </tr>\n",
       "    <tr>\n",
       "      <th>1</th>\n",
       "      <td>2</td>\n",
       "      <td>1</td>\n",
       "      <td>3</td>\n",
       "      <td>2017-05-03</td>\n",
       "    </tr>\n",
       "    <tr>\n",
       "      <th>2</th>\n",
       "      <td>2</td>\n",
       "      <td>2</td>\n",
       "      <td>5</td>\n",
       "      <td>2017-09-21</td>\n",
       "    </tr>\n",
       "    <tr>\n",
       "      <th>3</th>\n",
       "      <td>3</td>\n",
       "      <td>1</td>\n",
       "      <td>6</td>\n",
       "      <td>2018-01-15</td>\n",
       "    </tr>\n",
       "    <tr>\n",
       "      <th>4</th>\n",
       "      <td>5</td>\n",
       "      <td>3</td>\n",
       "      <td>2</td>\n",
       "      <td>2016-12-24</td>\n",
       "    </tr>\n",
       "  </tbody>\n",
       "</table>\n",
       "</div>"
      ],
      "text/plain": [
       "   user_id  book_id  rating   timestamp\n",
       "0        4        2       9  2017-05-04\n",
       "1        2        1       3  2017-05-03\n",
       "2        2        2       5  2017-09-21\n",
       "3        3        1       6  2018-01-15\n",
       "4        5        3       2  2016-12-24"
      ]
     },
     "execution_count": 2,
     "metadata": {},
     "output_type": "execute_result"
    }
   ],
   "source": [
    "ebooks = pd.read_csv('../data/ebooks/ebooks.csv', encoding = 'utf-8')\n",
    "ebooks.head()"
   ]
  },
  {
   "cell_type": "code",
   "execution_count": 3,
   "metadata": {},
   "outputs": [
    {
     "data": {
      "text/html": [
       "<div>\n",
       "<style scoped>\n",
       "    .dataframe tbody tr th:only-of-type {\n",
       "        vertical-align: middle;\n",
       "    }\n",
       "\n",
       "    .dataframe tbody tr th {\n",
       "        vertical-align: top;\n",
       "    }\n",
       "\n",
       "    .dataframe thead th {\n",
       "        text-align: right;\n",
       "    }\n",
       "</style>\n",
       "<table border=\"1\" class=\"dataframe\">\n",
       "  <thead>\n",
       "    <tr style=\"text-align: right;\">\n",
       "      <th></th>\n",
       "      <th>book_id</th>\n",
       "      <th>book_name</th>\n",
       "      <th>avg_rating</th>\n",
       "    </tr>\n",
       "  </thead>\n",
       "  <tbody>\n",
       "    <tr>\n",
       "      <th>0</th>\n",
       "      <td>1</td>\n",
       "      <td>20000 leguas de viaje submarino</td>\n",
       "      <td>8.4</td>\n",
       "    </tr>\n",
       "    <tr>\n",
       "      <th>1</th>\n",
       "      <td>2</td>\n",
       "      <td>Estudio en escarlata</td>\n",
       "      <td>2.3</td>\n",
       "    </tr>\n",
       "    <tr>\n",
       "      <th>2</th>\n",
       "      <td>3</td>\n",
       "      <td>La isla misteriosa</td>\n",
       "      <td>9.2</td>\n",
       "    </tr>\n",
       "    <tr>\n",
       "      <th>3</th>\n",
       "      <td>4</td>\n",
       "      <td>La isla del tesoro</td>\n",
       "      <td>7.6</td>\n",
       "    </tr>\n",
       "    <tr>\n",
       "      <th>4</th>\n",
       "      <td>5</td>\n",
       "      <td>Las aventuras de Tom Sawyer</td>\n",
       "      <td>6.7</td>\n",
       "    </tr>\n",
       "  </tbody>\n",
       "</table>\n",
       "</div>"
      ],
      "text/plain": [
       "   book_id                        book_name  avg_rating\n",
       "0        1  20000 leguas de viaje submarino         8.4\n",
       "1        2             Estudio en escarlata         2.3\n",
       "2        3               La isla misteriosa         9.2\n",
       "3        4               La isla del tesoro         7.6\n",
       "4        5      Las aventuras de Tom Sawyer         6.7"
      ]
     },
     "execution_count": 3,
     "metadata": {},
     "output_type": "execute_result"
    }
   ],
   "source": [
    "goodreads = pd.read_csv('../data/ebooks/goodreads.csv', encoding = 'utf-8')\n",
    "goodreads.head()"
   ]
  },
  {
   "cell_type": "markdown",
   "metadata": {},
   "source": [
    "#### a) Top 5 del primer data frame"
   ]
  },
  {
   "cell_type": "code",
   "execution_count": 4,
   "metadata": {},
   "outputs": [
    {
     "data": {
      "text/html": [
       "<div>\n",
       "<style scoped>\n",
       "    .dataframe tbody tr th:only-of-type {\n",
       "        vertical-align: middle;\n",
       "    }\n",
       "\n",
       "    .dataframe tbody tr th {\n",
       "        vertical-align: top;\n",
       "    }\n",
       "\n",
       "    .dataframe thead th {\n",
       "        text-align: right;\n",
       "    }\n",
       "</style>\n",
       "<table border=\"1\" class=\"dataframe\">\n",
       "  <thead>\n",
       "    <tr style=\"text-align: right;\">\n",
       "      <th></th>\n",
       "      <th>rating</th>\n",
       "    </tr>\n",
       "    <tr>\n",
       "      <th>book_id</th>\n",
       "      <th></th>\n",
       "    </tr>\n",
       "  </thead>\n",
       "  <tbody>\n",
       "    <tr>\n",
       "      <th>4</th>\n",
       "      <td>7.0</td>\n",
       "    </tr>\n",
       "    <tr>\n",
       "      <th>2</th>\n",
       "      <td>6.5</td>\n",
       "    </tr>\n",
       "    <tr>\n",
       "      <th>5</th>\n",
       "      <td>6.5</td>\n",
       "    </tr>\n",
       "    <tr>\n",
       "      <th>7</th>\n",
       "      <td>5.5</td>\n",
       "    </tr>\n",
       "    <tr>\n",
       "      <th>1</th>\n",
       "      <td>5.0</td>\n",
       "    </tr>\n",
       "  </tbody>\n",
       "</table>\n",
       "</div>"
      ],
      "text/plain": [
       "         rating\n",
       "book_id        \n",
       "4           7.0\n",
       "2           6.5\n",
       "5           6.5\n",
       "7           5.5\n",
       "1           5.0"
      ]
     },
     "execution_count": 4,
     "metadata": {},
     "output_type": "execute_result"
    }
   ],
   "source": [
    "# Me quedo con las columnas que me interesan\n",
    "dfa = ebooks.loc[:,['book_id', 'rating']]\n",
    "\n",
    "# Filtro los que tienen un solo review\n",
    "dfa = dfa.groupby('book_id').filter(lambda x: len(x) > 1)\n",
    "\n",
    "# Agrupo por book_id, calculo el promedio, ordeno\n",
    "# descendientemente y tomo los primeros cinco\n",
    "dfa.groupby('book_id').mean()\\\n",
    "    .sort_values('rating', ascending = False).head(5)"
   ]
  },
  {
   "cell_type": "markdown",
   "metadata": {},
   "source": [
    "##### Otra forma"
   ]
  },
  {
   "cell_type": "code",
   "execution_count": 5,
   "metadata": {},
   "outputs": [
    {
     "data": {
      "text/html": [
       "<div>\n",
       "<style scoped>\n",
       "    .dataframe tbody tr th:only-of-type {\n",
       "        vertical-align: middle;\n",
       "    }\n",
       "\n",
       "    .dataframe tbody tr th {\n",
       "        vertical-align: top;\n",
       "    }\n",
       "\n",
       "    .dataframe thead th {\n",
       "        text-align: right;\n",
       "    }\n",
       "</style>\n",
       "<table border=\"1\" class=\"dataframe\">\n",
       "  <thead>\n",
       "    <tr style=\"text-align: right;\">\n",
       "      <th></th>\n",
       "      <th>rating</th>\n",
       "      <th>reviews</th>\n",
       "    </tr>\n",
       "    <tr>\n",
       "      <th>book_id</th>\n",
       "      <th></th>\n",
       "      <th></th>\n",
       "    </tr>\n",
       "  </thead>\n",
       "  <tbody>\n",
       "    <tr>\n",
       "      <th>4</th>\n",
       "      <td>7.0</td>\n",
       "      <td>3</td>\n",
       "    </tr>\n",
       "    <tr>\n",
       "      <th>2</th>\n",
       "      <td>6.5</td>\n",
       "      <td>6</td>\n",
       "    </tr>\n",
       "    <tr>\n",
       "      <th>5</th>\n",
       "      <td>6.5</td>\n",
       "      <td>2</td>\n",
       "    </tr>\n",
       "    <tr>\n",
       "      <th>7</th>\n",
       "      <td>5.5</td>\n",
       "      <td>2</td>\n",
       "    </tr>\n",
       "    <tr>\n",
       "      <th>1</th>\n",
       "      <td>5.0</td>\n",
       "      <td>5</td>\n",
       "    </tr>\n",
       "  </tbody>\n",
       "</table>\n",
       "</div>"
      ],
      "text/plain": [
       "         rating  reviews\n",
       "book_id                 \n",
       "4           7.0        3\n",
       "2           6.5        6\n",
       "5           6.5        2\n",
       "7           5.5        2\n",
       "1           5.0        5"
      ]
     },
     "execution_count": 5,
     "metadata": {},
     "output_type": "execute_result"
    }
   ],
   "source": [
    "# Me quedo con las columnas que me interesan\n",
    "dfa = ebooks.loc[:,['book_id', 'rating']]\n",
    "\n",
    "# Agrupo por libro, cuento los votos y obtengo una\n",
    "# serie con la cantidad de votos por libro\n",
    "num_reviews = dfa.groupby('book_id').count()['rating']\n",
    "\n",
    "# Agrupo por libro y calculo el promedio del puntaje\n",
    "dfa = dfa.groupby('book_id').mean()\n",
    "\n",
    "# Agrego la columna de cantidad de reviews\n",
    "dfa['reviews'] = num_reviews\n",
    "\n",
    "# Descarto los libros que tengan un solo review\n",
    "dfa = dfa.loc[dfa['reviews'] > 1,:]\n",
    "\n",
    "# Ordeno descendentemente y muestro los primeros 5\n",
    "dfa.sort_values(by = 'rating', ascending = False).head(5)"
   ]
  },
  {
   "cell_type": "markdown",
   "metadata": {},
   "source": [
    "#### b) Libros con una diferencia de rating promedio mayor al 20% entre ambos sitios"
   ]
  },
  {
   "cell_type": "code",
   "execution_count": 6,
   "metadata": {},
   "outputs": [
    {
     "data": {
      "text/html": [
       "<div>\n",
       "<style scoped>\n",
       "    .dataframe tbody tr th:only-of-type {\n",
       "        vertical-align: middle;\n",
       "    }\n",
       "\n",
       "    .dataframe tbody tr th {\n",
       "        vertical-align: top;\n",
       "    }\n",
       "\n",
       "    .dataframe thead th {\n",
       "        text-align: right;\n",
       "    }\n",
       "</style>\n",
       "<table border=\"1\" class=\"dataframe\">\n",
       "  <thead>\n",
       "    <tr style=\"text-align: right;\">\n",
       "      <th></th>\n",
       "      <th>book_id</th>\n",
       "      <th>rating</th>\n",
       "      <th>reviews</th>\n",
       "      <th>book_name</th>\n",
       "      <th>avg_rating</th>\n",
       "    </tr>\n",
       "  </thead>\n",
       "  <tbody>\n",
       "    <tr>\n",
       "      <th>0</th>\n",
       "      <td>1</td>\n",
       "      <td>5.000000</td>\n",
       "      <td>5</td>\n",
       "      <td>20000 leguas de viaje submarino</td>\n",
       "      <td>8.4</td>\n",
       "    </tr>\n",
       "    <tr>\n",
       "      <th>1</th>\n",
       "      <td>2</td>\n",
       "      <td>6.500000</td>\n",
       "      <td>6</td>\n",
       "      <td>Estudio en escarlata</td>\n",
       "      <td>2.3</td>\n",
       "    </tr>\n",
       "    <tr>\n",
       "      <th>2</th>\n",
       "      <td>3</td>\n",
       "      <td>2.666667</td>\n",
       "      <td>6</td>\n",
       "      <td>La isla misteriosa</td>\n",
       "      <td>9.2</td>\n",
       "    </tr>\n",
       "    <tr>\n",
       "      <th>3</th>\n",
       "      <td>4</td>\n",
       "      <td>7.000000</td>\n",
       "      <td>3</td>\n",
       "      <td>La isla del tesoro</td>\n",
       "      <td>7.6</td>\n",
       "    </tr>\n",
       "    <tr>\n",
       "      <th>4</th>\n",
       "      <td>5</td>\n",
       "      <td>6.500000</td>\n",
       "      <td>2</td>\n",
       "      <td>Las aventuras de Tom Sawyer</td>\n",
       "      <td>6.7</td>\n",
       "    </tr>\n",
       "    <tr>\n",
       "      <th>5</th>\n",
       "      <td>7</td>\n",
       "      <td>5.500000</td>\n",
       "      <td>2</td>\n",
       "      <td>De la Tierra a la Luna</td>\n",
       "      <td>4.3</td>\n",
       "    </tr>\n",
       "  </tbody>\n",
       "</table>\n",
       "</div>"
      ],
      "text/plain": [
       "   book_id    rating  reviews                        book_name  avg_rating\n",
       "0        1  5.000000        5  20000 leguas de viaje submarino         8.4\n",
       "1        2  6.500000        6             Estudio en escarlata         2.3\n",
       "2        3  2.666667        6               La isla misteriosa         9.2\n",
       "3        4  7.000000        3               La isla del tesoro         7.6\n",
       "4        5  6.500000        2      Las aventuras de Tom Sawyer         6.7\n",
       "5        7  5.500000        2           De la Tierra a la Luna         4.3"
      ]
     },
     "execution_count": 6,
     "metadata": {},
     "output_type": "execute_result"
    }
   ],
   "source": [
    "# Hago un inner join entre ambos data frames sobre el book_id\n",
    "merged = pd.merge(dfa.reset_index(), goodreads, on = 'book_id', how = 'inner')\n",
    "merged"
   ]
  },
  {
   "cell_type": "code",
   "execution_count": 7,
   "metadata": {},
   "outputs": [
    {
     "data": {
      "text/html": [
       "<div>\n",
       "<style scoped>\n",
       "    .dataframe tbody tr th:only-of-type {\n",
       "        vertical-align: middle;\n",
       "    }\n",
       "\n",
       "    .dataframe tbody tr th {\n",
       "        vertical-align: top;\n",
       "    }\n",
       "\n",
       "    .dataframe thead th {\n",
       "        text-align: right;\n",
       "    }\n",
       "</style>\n",
       "<table border=\"1\" class=\"dataframe\">\n",
       "  <thead>\n",
       "    <tr style=\"text-align: right;\">\n",
       "      <th></th>\n",
       "      <th>book_id</th>\n",
       "      <th>rating</th>\n",
       "      <th>reviews</th>\n",
       "      <th>book_name</th>\n",
       "      <th>avg_rating</th>\n",
       "    </tr>\n",
       "  </thead>\n",
       "  <tbody>\n",
       "    <tr>\n",
       "      <th>0</th>\n",
       "      <td>1</td>\n",
       "      <td>5.000000</td>\n",
       "      <td>5</td>\n",
       "      <td>20000 leguas de viaje submarino</td>\n",
       "      <td>8.4</td>\n",
       "    </tr>\n",
       "    <tr>\n",
       "      <th>1</th>\n",
       "      <td>2</td>\n",
       "      <td>6.500000</td>\n",
       "      <td>6</td>\n",
       "      <td>Estudio en escarlata</td>\n",
       "      <td>2.3</td>\n",
       "    </tr>\n",
       "    <tr>\n",
       "      <th>2</th>\n",
       "      <td>3</td>\n",
       "      <td>2.666667</td>\n",
       "      <td>6</td>\n",
       "      <td>La isla misteriosa</td>\n",
       "      <td>9.2</td>\n",
       "    </tr>\n",
       "    <tr>\n",
       "      <th>5</th>\n",
       "      <td>7</td>\n",
       "      <td>5.500000</td>\n",
       "      <td>2</td>\n",
       "      <td>De la Tierra a la Luna</td>\n",
       "      <td>4.3</td>\n",
       "    </tr>\n",
       "  </tbody>\n",
       "</table>\n",
       "</div>"
      ],
      "text/plain": [
       "   book_id    rating  reviews                        book_name  avg_rating\n",
       "0        1  5.000000        5  20000 leguas de viaje submarino         8.4\n",
       "1        2  6.500000        6             Estudio en escarlata         2.3\n",
       "2        3  2.666667        6               La isla misteriosa         9.2\n",
       "5        7  5.500000        2           De la Tierra a la Luna         4.3"
      ]
     },
     "execution_count": 7,
     "metadata": {},
     "output_type": "execute_result"
    }
   ],
   "source": [
    "# Me quedo solo con aquellos resultados que tengan una diferencia\n",
    "# mayor a 20% entre ambas columnas de rating\n",
    "merged.loc[(merged['avg_rating'] < merged['rating'] * 0.8)\\\n",
    "          | (merged['avg_rating'] > merged['rating'] * 1.2),:]"
   ]
  },
  {
   "cell_type": "markdown",
   "metadata": {},
   "source": [
    "### Ejercicio 2\n",
    "\n",
    "** 2017 2do cuatrimestre (primera oportunidad) **\n",
    "\n",
    "Tenemos un dataframe con la información de distintas playlists armadas por usuarios con el formato (playlist, song_id, description). A su vez, contamos con un dataframe de canciones\n",
    "que contiene (song_id, singer, year, length, genres).\n",
    "Se pide generar un programa en Pandas que indique para cada playlist cuál es el cantante predominante (con mas canciones incluidas dentro de esa lista). (15 pts) \n",
    "\n",
    "#### Criterio de corrección\n",
    "\n",
    "Si en algún lado hacen un groupByKey se hace un descuento de 10 puntos. En ningún caso son necesarios los datos de cada registro.\n",
    "Si filtran después de hacer el resto de las operaciones, descuento de 2 puntos (es mucho más eficiente filtrar antes y solo trabajar con un\n",
    "conjunto acotado, podríamos tener todos los patentamientos de la historia). "
   ]
  },
  {
   "cell_type": "markdown",
   "metadata": {},
   "source": [
    "#### Lectura de los datos"
   ]
  },
  {
   "cell_type": "code",
   "execution_count": 8,
   "metadata": {},
   "outputs": [
    {
     "data": {
      "text/html": [
       "<div>\n",
       "<style scoped>\n",
       "    .dataframe tbody tr th:only-of-type {\n",
       "        vertical-align: middle;\n",
       "    }\n",
       "\n",
       "    .dataframe tbody tr th {\n",
       "        vertical-align: top;\n",
       "    }\n",
       "\n",
       "    .dataframe thead th {\n",
       "        text-align: right;\n",
       "    }\n",
       "</style>\n",
       "<table border=\"1\" class=\"dataframe\">\n",
       "  <thead>\n",
       "    <tr style=\"text-align: right;\">\n",
       "      <th></th>\n",
       "      <th>playlist</th>\n",
       "      <th>song_id</th>\n",
       "      <th>description</th>\n",
       "    </tr>\n",
       "  </thead>\n",
       "  <tbody>\n",
       "    <tr>\n",
       "      <th>0</th>\n",
       "      <td>1</td>\n",
       "      <td>3</td>\n",
       "      <td>werwe</td>\n",
       "    </tr>\n",
       "    <tr>\n",
       "      <th>1</th>\n",
       "      <td>1</td>\n",
       "      <td>5</td>\n",
       "      <td>ijias</td>\n",
       "    </tr>\n",
       "    <tr>\n",
       "      <th>2</th>\n",
       "      <td>4</td>\n",
       "      <td>4</td>\n",
       "      <td>oiurewq</td>\n",
       "    </tr>\n",
       "    <tr>\n",
       "      <th>3</th>\n",
       "      <td>1</td>\n",
       "      <td>4</td>\n",
       "      <td>fdsa</td>\n",
       "    </tr>\n",
       "    <tr>\n",
       "      <th>4</th>\n",
       "      <td>2</td>\n",
       "      <td>4</td>\n",
       "      <td>rewqew</td>\n",
       "    </tr>\n",
       "  </tbody>\n",
       "</table>\n",
       "</div>"
      ],
      "text/plain": [
       "   playlist  song_id description\n",
       "0         1        3       werwe\n",
       "1         1        5       ijias\n",
       "2         4        4     oiurewq\n",
       "3         1        4        fdsa\n",
       "4         2        4      rewqew"
      ]
     },
     "execution_count": 8,
     "metadata": {},
     "output_type": "execute_result"
    }
   ],
   "source": [
    "playlists = pd.read_csv('../data/playlists/playlists.csv', encoding='utf-8')\n",
    "playlists.head()"
   ]
  },
  {
   "cell_type": "code",
   "execution_count": 9,
   "metadata": {},
   "outputs": [
    {
     "data": {
      "text/html": [
       "<div>\n",
       "<style scoped>\n",
       "    .dataframe tbody tr th:only-of-type {\n",
       "        vertical-align: middle;\n",
       "    }\n",
       "\n",
       "    .dataframe tbody tr th {\n",
       "        vertical-align: top;\n",
       "    }\n",
       "\n",
       "    .dataframe thead th {\n",
       "        text-align: right;\n",
       "    }\n",
       "</style>\n",
       "<table border=\"1\" class=\"dataframe\">\n",
       "  <thead>\n",
       "    <tr style=\"text-align: right;\">\n",
       "      <th></th>\n",
       "      <th>song_id</th>\n",
       "      <th>singer</th>\n",
       "      <th>year</th>\n",
       "      <th>length</th>\n",
       "      <th>genres</th>\n",
       "    </tr>\n",
       "  </thead>\n",
       "  <tbody>\n",
       "    <tr>\n",
       "      <th>0</th>\n",
       "      <td>1</td>\n",
       "      <td>Michael Jackson</td>\n",
       "      <td>1985</td>\n",
       "      <td>8</td>\n",
       "      <td>Pop</td>\n",
       "    </tr>\n",
       "    <tr>\n",
       "      <th>1</th>\n",
       "      <td>2</td>\n",
       "      <td>Elton John</td>\n",
       "      <td>1984</td>\n",
       "      <td>2</td>\n",
       "      <td>Pop</td>\n",
       "    </tr>\n",
       "    <tr>\n",
       "      <th>2</th>\n",
       "      <td>3</td>\n",
       "      <td>Ronnie Dio</td>\n",
       "      <td>1987</td>\n",
       "      <td>3</td>\n",
       "      <td>Metal</td>\n",
       "    </tr>\n",
       "    <tr>\n",
       "      <th>3</th>\n",
       "      <td>4</td>\n",
       "      <td>Elton John</td>\n",
       "      <td>1982</td>\n",
       "      <td>4</td>\n",
       "      <td>Pop</td>\n",
       "    </tr>\n",
       "    <tr>\n",
       "      <th>4</th>\n",
       "      <td>5</td>\n",
       "      <td>Elton John</td>\n",
       "      <td>1985</td>\n",
       "      <td>3</td>\n",
       "      <td>Pop</td>\n",
       "    </tr>\n",
       "  </tbody>\n",
       "</table>\n",
       "</div>"
      ],
      "text/plain": [
       "   song_id           singer  year  length genres\n",
       "0        1  Michael Jackson  1985       8    Pop\n",
       "1        2       Elton John  1984       2    Pop\n",
       "2        3       Ronnie Dio  1987       3  Metal\n",
       "3        4       Elton John  1982       4    Pop\n",
       "4        5       Elton John  1985       3    Pop"
      ]
     },
     "execution_count": 9,
     "metadata": {},
     "output_type": "execute_result"
    }
   ],
   "source": [
    "songs = pd.read_csv('../data/playlists/songs.csv', encoding='utf-8')\n",
    "songs.head()"
   ]
  },
  {
   "cell_type": "markdown",
   "metadata": {},
   "source": [
    "#### Resolución agrupando y buscando el máximo"
   ]
  },
  {
   "cell_type": "code",
   "execution_count": 10,
   "metadata": {},
   "outputs": [
    {
     "data": {
      "text/html": [
       "<div>\n",
       "<style scoped>\n",
       "    .dataframe tbody tr th:only-of-type {\n",
       "        vertical-align: middle;\n",
       "    }\n",
       "\n",
       "    .dataframe tbody tr th {\n",
       "        vertical-align: top;\n",
       "    }\n",
       "\n",
       "    .dataframe thead th {\n",
       "        text-align: right;\n",
       "    }\n",
       "</style>\n",
       "<table border=\"1\" class=\"dataframe\">\n",
       "  <thead>\n",
       "    <tr style=\"text-align: right;\">\n",
       "      <th></th>\n",
       "      <th>playlist</th>\n",
       "      <th>song_id</th>\n",
       "      <th>singer</th>\n",
       "    </tr>\n",
       "  </thead>\n",
       "  <tbody>\n",
       "    <tr>\n",
       "      <th>0</th>\n",
       "      <td>1</td>\n",
       "      <td>3</td>\n",
       "      <td>Ronnie Dio</td>\n",
       "    </tr>\n",
       "    <tr>\n",
       "      <th>1</th>\n",
       "      <td>2</td>\n",
       "      <td>3</td>\n",
       "      <td>Ronnie Dio</td>\n",
       "    </tr>\n",
       "    <tr>\n",
       "      <th>2</th>\n",
       "      <td>3</td>\n",
       "      <td>3</td>\n",
       "      <td>Ronnie Dio</td>\n",
       "    </tr>\n",
       "    <tr>\n",
       "      <th>3</th>\n",
       "      <td>1</td>\n",
       "      <td>5</td>\n",
       "      <td>Elton John</td>\n",
       "    </tr>\n",
       "    <tr>\n",
       "      <th>4</th>\n",
       "      <td>2</td>\n",
       "      <td>5</td>\n",
       "      <td>Elton John</td>\n",
       "    </tr>\n",
       "  </tbody>\n",
       "</table>\n",
       "</div>"
      ],
      "text/plain": [
       "   playlist  song_id      singer\n",
       "0         1        3  Ronnie Dio\n",
       "1         2        3  Ronnie Dio\n",
       "2         3        3  Ronnie Dio\n",
       "3         1        5  Elton John\n",
       "4         2        5  Elton John"
      ]
     },
     "execution_count": 10,
     "metadata": {},
     "output_type": "execute_result"
    }
   ],
   "source": [
    "# Me deshago primero de las columnas que no me interesan\n",
    "playlists = playlists.loc[:,['playlist', 'song_id']]\n",
    "songs = songs.loc[:, ['song_id', 'singer']]\n",
    "\n",
    "# Hago un inner join sobre song_id\n",
    "merged = pd.merge(playlists, songs, how = 'inner', on = 'song_id')\n",
    "merged.head()"
   ]
  },
  {
   "cell_type": "code",
   "execution_count": 11,
   "metadata": {},
   "outputs": [
    {
     "data": {
      "text/html": [
       "<div>\n",
       "<style scoped>\n",
       "    .dataframe tbody tr th:only-of-type {\n",
       "        vertical-align: middle;\n",
       "    }\n",
       "\n",
       "    .dataframe tbody tr th {\n",
       "        vertical-align: top;\n",
       "    }\n",
       "\n",
       "    .dataframe thead th {\n",
       "        text-align: right;\n",
       "    }\n",
       "</style>\n",
       "<table border=\"1\" class=\"dataframe\">\n",
       "  <thead>\n",
       "    <tr style=\"text-align: right;\">\n",
       "      <th></th>\n",
       "      <th>playlist</th>\n",
       "      <th>singer</th>\n",
       "      <th>cant</th>\n",
       "    </tr>\n",
       "  </thead>\n",
       "  <tbody>\n",
       "    <tr>\n",
       "      <th>0</th>\n",
       "      <td>1</td>\n",
       "      <td>Elton John</td>\n",
       "      <td>2</td>\n",
       "    </tr>\n",
       "    <tr>\n",
       "      <th>1</th>\n",
       "      <td>1</td>\n",
       "      <td>Ronnie Dio</td>\n",
       "      <td>1</td>\n",
       "    </tr>\n",
       "    <tr>\n",
       "      <th>2</th>\n",
       "      <td>2</td>\n",
       "      <td>Elton John</td>\n",
       "      <td>3</td>\n",
       "    </tr>\n",
       "    <tr>\n",
       "      <th>3</th>\n",
       "      <td>2</td>\n",
       "      <td>Ronnie Dio</td>\n",
       "      <td>1</td>\n",
       "    </tr>\n",
       "    <tr>\n",
       "      <th>4</th>\n",
       "      <td>3</td>\n",
       "      <td>Elton John</td>\n",
       "      <td>1</td>\n",
       "    </tr>\n",
       "    <tr>\n",
       "      <th>5</th>\n",
       "      <td>3</td>\n",
       "      <td>Ronnie Dio</td>\n",
       "      <td>1</td>\n",
       "    </tr>\n",
       "    <tr>\n",
       "      <th>6</th>\n",
       "      <td>4</td>\n",
       "      <td>Elton John</td>\n",
       "      <td>2</td>\n",
       "    </tr>\n",
       "    <tr>\n",
       "      <th>7</th>\n",
       "      <td>5</td>\n",
       "      <td>Michael Jackson</td>\n",
       "      <td>2</td>\n",
       "    </tr>\n",
       "  </tbody>\n",
       "</table>\n",
       "</div>"
      ],
      "text/plain": [
       "   playlist           singer  cant\n",
       "0         1       Elton John     2\n",
       "1         1       Ronnie Dio     1\n",
       "2         2       Elton John     3\n",
       "3         2       Ronnie Dio     1\n",
       "4         3       Elton John     1\n",
       "5         3       Ronnie Dio     1\n",
       "6         4       Elton John     2\n",
       "7         5  Michael Jackson     2"
      ]
     },
     "execution_count": 11,
     "metadata": {},
     "output_type": "execute_result"
    }
   ],
   "source": [
    "# Hago un groupby por playlist y singer y luego me quedo con el máximo de cada uno\n",
    "grouped = merged.groupby(['playlist', 'singer'])\\\n",
    "    .size().to_frame('cant').reset_index()\n",
    "grouped"
   ]
  },
  {
   "cell_type": "code",
   "execution_count": 12,
   "metadata": {},
   "outputs": [
    {
     "data": {
      "text/html": [
       "<div>\n",
       "<style scoped>\n",
       "    .dataframe tbody tr th:only-of-type {\n",
       "        vertical-align: middle;\n",
       "    }\n",
       "\n",
       "    .dataframe tbody tr th {\n",
       "        vertical-align: top;\n",
       "    }\n",
       "\n",
       "    .dataframe thead th {\n",
       "        text-align: right;\n",
       "    }\n",
       "</style>\n",
       "<table border=\"1\" class=\"dataframe\">\n",
       "  <thead>\n",
       "    <tr style=\"text-align: right;\">\n",
       "      <th></th>\n",
       "      <th></th>\n",
       "      <th>playlist</th>\n",
       "      <th>singer</th>\n",
       "      <th>cant</th>\n",
       "    </tr>\n",
       "    <tr>\n",
       "      <th>playlist</th>\n",
       "      <th></th>\n",
       "      <th></th>\n",
       "      <th></th>\n",
       "      <th></th>\n",
       "    </tr>\n",
       "  </thead>\n",
       "  <tbody>\n",
       "    <tr>\n",
       "      <th>1</th>\n",
       "      <th>0</th>\n",
       "      <td>1</td>\n",
       "      <td>Elton John</td>\n",
       "      <td>2</td>\n",
       "    </tr>\n",
       "    <tr>\n",
       "      <th>2</th>\n",
       "      <th>2</th>\n",
       "      <td>2</td>\n",
       "      <td>Elton John</td>\n",
       "      <td>3</td>\n",
       "    </tr>\n",
       "    <tr>\n",
       "      <th rowspan=\"2\" valign=\"top\">3</th>\n",
       "      <th>4</th>\n",
       "      <td>3</td>\n",
       "      <td>Elton John</td>\n",
       "      <td>1</td>\n",
       "    </tr>\n",
       "    <tr>\n",
       "      <th>5</th>\n",
       "      <td>3</td>\n",
       "      <td>Ronnie Dio</td>\n",
       "      <td>1</td>\n",
       "    </tr>\n",
       "    <tr>\n",
       "      <th>4</th>\n",
       "      <th>6</th>\n",
       "      <td>4</td>\n",
       "      <td>Elton John</td>\n",
       "      <td>2</td>\n",
       "    </tr>\n",
       "    <tr>\n",
       "      <th>5</th>\n",
       "      <th>7</th>\n",
       "      <td>5</td>\n",
       "      <td>Michael Jackson</td>\n",
       "      <td>2</td>\n",
       "    </tr>\n",
       "  </tbody>\n",
       "</table>\n",
       "</div>"
      ],
      "text/plain": [
       "            playlist           singer  cant\n",
       "playlist                                   \n",
       "1        0         1       Elton John     2\n",
       "2        2         2       Elton John     3\n",
       "3        4         3       Elton John     1\n",
       "         5         3       Ronnie Dio     1\n",
       "4        6         4       Elton John     2\n",
       "5        7         5  Michael Jackson     2"
      ]
     },
     "execution_count": 12,
     "metadata": {},
     "output_type": "execute_result"
    }
   ],
   "source": [
    "# Me quedo con el máximo por cada playlist\n",
    "grouped.groupby('playlist')\\\n",
    "    .apply(lambda x: x[x['cant'] == x['cant'].max()])"
   ]
  },
  {
   "cell_type": "markdown",
   "metadata": {},
   "source": [
    "#### Resolución agrupando, ordenando y eliminando duplicados"
   ]
  },
  {
   "cell_type": "code",
   "execution_count": 13,
   "metadata": {},
   "outputs": [
    {
     "data": {
      "text/html": [
       "<div>\n",
       "<style scoped>\n",
       "    .dataframe tbody tr th:only-of-type {\n",
       "        vertical-align: middle;\n",
       "    }\n",
       "\n",
       "    .dataframe tbody tr th {\n",
       "        vertical-align: top;\n",
       "    }\n",
       "\n",
       "    .dataframe thead th {\n",
       "        text-align: right;\n",
       "    }\n",
       "</style>\n",
       "<table border=\"1\" class=\"dataframe\">\n",
       "  <thead>\n",
       "    <tr style=\"text-align: right;\">\n",
       "      <th></th>\n",
       "      <th>singer</th>\n",
       "      <th>cantidad</th>\n",
       "    </tr>\n",
       "    <tr>\n",
       "      <th>playlist</th>\n",
       "      <th></th>\n",
       "      <th></th>\n",
       "    </tr>\n",
       "  </thead>\n",
       "  <tbody>\n",
       "    <tr>\n",
       "      <th>2</th>\n",
       "      <td>Elton John</td>\n",
       "      <td>3</td>\n",
       "    </tr>\n",
       "    <tr>\n",
       "      <th>1</th>\n",
       "      <td>Elton John</td>\n",
       "      <td>2</td>\n",
       "    </tr>\n",
       "    <tr>\n",
       "      <th>4</th>\n",
       "      <td>Elton John</td>\n",
       "      <td>2</td>\n",
       "    </tr>\n",
       "    <tr>\n",
       "      <th>5</th>\n",
       "      <td>Michael Jackson</td>\n",
       "      <td>2</td>\n",
       "    </tr>\n",
       "    <tr>\n",
       "      <th>3</th>\n",
       "      <td>Elton John</td>\n",
       "      <td>1</td>\n",
       "    </tr>\n",
       "  </tbody>\n",
       "</table>\n",
       "</div>"
      ],
      "text/plain": [
       "                   singer  cantidad\n",
       "playlist                           \n",
       "2              Elton John         3\n",
       "1              Elton John         2\n",
       "4              Elton John         2\n",
       "5         Michael Jackson         2\n",
       "3              Elton John         1"
      ]
     },
     "execution_count": 13,
     "metadata": {},
     "output_type": "execute_result"
    }
   ],
   "source": [
    "# Me deshago primero de las columnas que no me interesan\n",
    "playlists = playlists.loc[:,['playlist', 'song_id']]\n",
    "songs = songs.loc[:, ['song_id', 'singer']]\n",
    "\n",
    "# Hago un inner join sobre song_id\n",
    "merged = pd.merge(playlists, songs, how = 'inner', on = 'song_id')\n",
    "\n",
    "# Agrupo por playlist y singer, los cuento, ordeno\n",
    "# descendientemente y elimino los duplicados\n",
    "df = merged.groupby(['playlist','singer']).size()\\\n",
    "    .to_frame('cantidad').reset_index()\\\n",
    "    .sort_values('cantidad', ascending = False)\\\n",
    "    .drop_duplicates('playlist')\n",
    "\n",
    "df.set_index('playlist')"
   ]
  },
  {
   "cell_type": "markdown",
   "metadata": {},
   "source": [
    "#### Resolución con Spark\n",
    "\n",
    "Es importante no usar `collect()` cada vez. Aquí lo utilizamos para poder visualizar el resultado de cada paso y porque sabemos que estamos trabajando con un conjunto de datos pequeño, pero en la solución final no debería aparecer."
   ]
  },
  {
   "cell_type": "code",
   "execution_count": 60,
   "metadata": {},
   "outputs": [
    {
     "data": {
      "text/plain": [
       "[['1', '3', 'werwe'],\n",
       " ['1', '5', 'ijias'],\n",
       " ['4', '4', 'oiurewq'],\n",
       " ['1', '4', 'fdsa'],\n",
       " ['2', '4', 'rewqew'],\n",
       " ['2', '3', 'ewrqwq'],\n",
       " ['2', '2', 'ewqor'],\n",
       " ['2', '5', 'rewqew'],\n",
       " ['3', '3', 'oiure'],\n",
       " ['3', '2', 'rewh'],\n",
       " ['4', '2', 'wreqoiu'],\n",
       " ['5', '6', 'rewew'],\n",
       " ['5', '1', 'miguel']]"
      ]
     },
     "execution_count": 60,
     "metadata": {},
     "output_type": "execute_result"
    }
   ],
   "source": [
    "# Leo el CSV de playlists\n",
    "playlistsRDD = sc.textFile('../data/playlists/playlists.csv')\n",
    "\n",
    "# Remuevo la línea de encabezado\n",
    "header = playlistsRDD.first()\n",
    "playlistsRDD = playlistsRDD.filter(lambda line: line != header)\n",
    "\n",
    "# Separo por comas\n",
    "playlistsRDD = playlistsRDD.map(lambda a: a.split(','))\n",
    "playlistsRDD.collect()"
   ]
  },
  {
   "cell_type": "code",
   "execution_count": 61,
   "metadata": {},
   "outputs": [
    {
     "data": {
      "text/plain": [
       "[('3', '1'),\n",
       " ('5', '1'),\n",
       " ('4', '4'),\n",
       " ('4', '1'),\n",
       " ('4', '2'),\n",
       " ('3', '2'),\n",
       " ('2', '2'),\n",
       " ('5', '2'),\n",
       " ('3', '3'),\n",
       " ('2', '3'),\n",
       " ('2', '4'),\n",
       " ('6', '5'),\n",
       " ('1', '5')]"
      ]
     },
     "execution_count": 61,
     "metadata": {},
     "output_type": "execute_result"
    }
   ],
   "source": [
    "# (playlist, song_id, description) (0,1,2)\n",
    "# (song_id, singer, year, length, genres) (0,1,2,3,4)\n",
    "\n",
    "# Me quedo con las columnas \n",
    "# song_id y playlist poniendo song_id primera\n",
    "playlistsRDD = playlistsRDD.map(lambda x: (x[1],x[0]))\n",
    "playlistsRDD.collect()"
   ]
  },
  {
   "cell_type": "code",
   "execution_count": 62,
   "metadata": {},
   "outputs": [
    {
     "data": {
      "text/plain": [
       "[['1', 'Michael Jackson', '1985', '8', 'Pop'],\n",
       " ['2', 'Elton John', '1984', '2', 'Pop'],\n",
       " ['3', 'Ronnie Dio', '1987', '3', 'Metal'],\n",
       " ['4', 'Elton John', '1982', '4', 'Pop'],\n",
       " ['5', 'Elton John', '1985', '3', 'Pop'],\n",
       " ['6', 'Michael Jackson', '1990', '5', 'Pop']]"
      ]
     },
     "execution_count": 62,
     "metadata": {},
     "output_type": "execute_result"
    }
   ],
   "source": [
    "# Leo el CSV de canciones\n",
    "songsRDD = sc.textFile('../data/playlists/songs.csv')\n",
    "\n",
    "# Remuevo la línea de encabezado\n",
    "header = songsRDD.first()\n",
    "songsRDD = songsRDD.filter(lambda line: line != header)\n",
    "\n",
    "# Separo por comas\n",
    "songsRDD = songsRDD.map(lambda a: a.split(','))\n",
    "songsRDD.collect()"
   ]
  },
  {
   "cell_type": "code",
   "execution_count": 63,
   "metadata": {},
   "outputs": [
    {
     "data": {
      "text/plain": [
       "[('1', 'Michael Jackson'),\n",
       " ('2', 'Elton John'),\n",
       " ('3', 'Ronnie Dio'),\n",
       " ('4', 'Elton John'),\n",
       " ('5', 'Elton John'),\n",
       " ('6', 'Michael Jackson')]"
      ]
     },
     "execution_count": 63,
     "metadata": {},
     "output_type": "execute_result"
    }
   ],
   "source": [
    "# Me quedo con las primeras dos columnas del segundo RDD\n",
    "songsRDD = songsRDD.map(lambda x: (x[0],x[1]))\n",
    "songsRDD.collect()"
   ]
  },
  {
   "cell_type": "code",
   "execution_count": 64,
   "metadata": {},
   "outputs": [
    {
     "data": {
      "text/plain": [
       "[('4', ('Elton John', '4')),\n",
       " ('4', ('Elton John', '1')),\n",
       " ('4', ('Elton John', '2')),\n",
       " ('3', ('Ronnie Dio', '1')),\n",
       " ('3', ('Ronnie Dio', '2')),\n",
       " ('3', ('Ronnie Dio', '3')),\n",
       " ('6', ('Michael Jackson', '5')),\n",
       " ('1', ('Michael Jackson', '5')),\n",
       " ('2', ('Elton John', '2')),\n",
       " ('2', ('Elton John', '3')),\n",
       " ('2', ('Elton John', '4')),\n",
       " ('5', ('Elton John', '1')),\n",
       " ('5', ('Elton John', '2'))]"
      ]
     },
     "execution_count": 64,
     "metadata": {},
     "output_type": "execute_result"
    }
   ],
   "source": [
    "# Hago un inner join sobre el song_id\n",
    "merged = songsRDD.join(playlistsRDD)\n",
    "merged.collect()"
   ]
  },
  {
   "cell_type": "code",
   "execution_count": 65,
   "metadata": {},
   "outputs": [
    {
     "data": {
      "text/plain": [
       "[(('4', 'Elton John'), 1),\n",
       " (('1', 'Elton John'), 1),\n",
       " (('2', 'Elton John'), 1),\n",
       " (('1', 'Ronnie Dio'), 1),\n",
       " (('2', 'Ronnie Dio'), 1),\n",
       " (('3', 'Ronnie Dio'), 1),\n",
       " (('5', 'Michael Jackson'), 1),\n",
       " (('5', 'Michael Jackson'), 1),\n",
       " (('2', 'Elton John'), 1),\n",
       " (('3', 'Elton John'), 1),\n",
       " (('4', 'Elton John'), 1),\n",
       " (('1', 'Elton John'), 1),\n",
       " (('2', 'Elton John'), 1)]"
      ]
     },
     "execution_count": 65,
     "metadata": {},
     "output_type": "execute_result"
    }
   ],
   "source": [
    "merged = merged.map(lambda x: ((x[1][1],x[1][0]),1))\n",
    "merged.collect()"
   ]
  },
  {
   "cell_type": "code",
   "execution_count": 66,
   "metadata": {},
   "outputs": [
    {
     "data": {
      "text/plain": [
       "[(('1', 'Elton John'), 2),\n",
       " (('2', 'Ronnie Dio'), 1),\n",
       " (('2', 'Elton John'), 3),\n",
       " (('1', 'Ronnie Dio'), 1),\n",
       " (('5', 'Michael Jackson'), 2),\n",
       " (('4', 'Elton John'), 2),\n",
       " (('3', 'Ronnie Dio'), 1),\n",
       " (('3', 'Elton John'), 1)]"
      ]
     },
     "execution_count": 66,
     "metadata": {},
     "output_type": "execute_result"
    }
   ],
   "source": [
    "merged = merged.reduceByKey(lambda a,b: a + b)\n",
    "merged.collect()"
   ]
  },
  {
   "cell_type": "code",
   "execution_count": 67,
   "metadata": {},
   "outputs": [
    {
     "data": {
      "text/plain": [
       "[('1', ('Elton John', 2)),\n",
       " ('2', ('Ronnie Dio', 1)),\n",
       " ('2', ('Elton John', 3)),\n",
       " ('1', ('Ronnie Dio', 1)),\n",
       " ('5', ('Michael Jackson', 2)),\n",
       " ('4', ('Elton John', 2)),\n",
       " ('3', ('Ronnie Dio', 1)),\n",
       " ('3', ('Elton John', 1))]"
      ]
     },
     "execution_count": 67,
     "metadata": {},
     "output_type": "execute_result"
    }
   ],
   "source": [
    "merged = merged.map(lambda x: (x[0][0],(x[0][1],x[1])))\n",
    "merged.collect()"
   ]
  },
  {
   "cell_type": "code",
   "execution_count": 74,
   "metadata": {},
   "outputs": [
    {
     "data": {
      "text/plain": [
       "[('1', 2),\n",
       " ('2', 1),\n",
       " ('2', 3),\n",
       " ('1', 1),\n",
       " ('5', 2),\n",
       " ('4', 2),\n",
       " ('3', 1),\n",
       " ('3', 1)]"
      ]
     },
     "execution_count": 74,
     "metadata": {},
     "output_type": "execute_result"
    }
   ],
   "source": [
    "aux = merged.map(lambda x: (x[0],x[1][1]))\n",
    "aux.collect()"
   ]
  },
  {
   "cell_type": "code",
   "execution_count": 75,
   "metadata": {},
   "outputs": [
    {
     "data": {
      "text/plain": [
       "[('4', 2), ('3', 1), ('1', 2), ('2', 3), ('5', 2)]"
      ]
     },
     "execution_count": 75,
     "metadata": {},
     "output_type": "execute_result"
    }
   ],
   "source": [
    "aux = aux.reduceByKey(max)\n",
    "aux.collect()"
   ]
  },
  {
   "cell_type": "code",
   "execution_count": 77,
   "metadata": {},
   "outputs": [
    {
     "data": {
      "text/plain": [
       "[(('4', 2), 1), (('3', 1), 1), (('1', 2), 1), (('2', 3), 1), (('5', 2), 1)]"
      ]
     },
     "execution_count": 77,
     "metadata": {},
     "output_type": "execute_result"
    }
   ],
   "source": [
    "aux = aux.map(lambda x: ((x[0],x[1]),1))\n",
    "aux.collect()"
   ]
  },
  {
   "cell_type": "code",
   "execution_count": 78,
   "metadata": {},
   "outputs": [
    {
     "data": {
      "text/plain": [
       "[(('1', 2), 'Elton John'),\n",
       " (('2', 1), 'Ronnie Dio'),\n",
       " (('2', 3), 'Elton John'),\n",
       " (('1', 1), 'Ronnie Dio'),\n",
       " (('5', 2), 'Michael Jackson'),\n",
       " (('4', 2), 'Elton John'),\n",
       " (('3', 1), 'Ronnie Dio'),\n",
       " (('3', 1), 'Elton John')]"
      ]
     },
     "execution_count": 78,
     "metadata": {},
     "output_type": "execute_result"
    }
   ],
   "source": [
    "merged = merged.map(lambda x: ((x[0],x[1][1]), x[1][0]))\n",
    "merged.collect()"
   ]
  },
  {
   "cell_type": "code",
   "execution_count": 81,
   "metadata": {},
   "outputs": [
    {
     "data": {
      "text/plain": [
       "[(('3', 1), (1, 'Ronnie Dio')),\n",
       " (('3', 1), (1, 'Elton John')),\n",
       " (('2', 3), (1, 'Elton John')),\n",
       " (('5', 2), (1, 'Michael Jackson')),\n",
       " (('4', 2), (1, 'Elton John')),\n",
       " (('1', 2), (1, 'Elton John'))]"
      ]
     },
     "execution_count": 81,
     "metadata": {},
     "output_type": "execute_result"
    }
   ],
   "source": [
    "fin = aux.join(merged)\n",
    "fin.collect()"
   ]
  },
  {
   "cell_type": "code",
   "execution_count": 82,
   "metadata": {},
   "outputs": [
    {
     "data": {
      "text/plain": [
       "[('3', 'Ronnie Dio'),\n",
       " ('3', 'Elton John'),\n",
       " ('2', 'Elton John'),\n",
       " ('5', 'Michael Jackson'),\n",
       " ('4', 'Elton John'),\n",
       " ('1', 'Elton John')]"
      ]
     },
     "execution_count": 82,
     "metadata": {},
     "output_type": "execute_result"
    }
   ],
   "source": [
    "fin = fin.map(lambda x: (x[0][0], x[1][1]))\n",
    "fin.collect()"
   ]
  },
  {
   "cell_type": "markdown",
   "metadata": {},
   "source": [
    "### Ejercicio 3\n",
    "\n",
    "** 2017 2do cuatrimestre (segunda oportunidad) **\n",
    "\n",
    "La Agencia Nacional de Estadísticas de Buenos Aires recolecta información de nacimientos cuando los padres registran a sus hijos en el registro civil a partir de una encuesta. Esa información se encuentra disponible para su análisis en un csv con el siguiente formato\n",
    "(dia_nacimiento, mes_nacimiento, anio_nacimiento, peso_al_nacer, longitud_al_nacer, id_hospital, tipo_parto), donde el tipo de parto 1 es natural y 2 es cesárea.\n",
    "Por otro lado la agencia cuenta con información histórica de los hospitales en otro csv con siguiente formato (id_hospital, dirección, promedio_nacimientos_mensual).\n",
    "Se pide usar Pandas para:\n",
    "\n",
    "  a) Calcular la cantidad de nacimientos para cada uno de los hospitales para el mes de Octubre de 2017 e indicar aquellos hospitales que superan el promedio de nacimientos mensuales.\n",
    "  \n",
    "  b) Comparando el mes de Octubre de 2017 indicar programáticamente si se incremento el % de cesáreas con respecto a ese mes del año 2016.\n",
    "  \n",
    "#### Criterio de corrección\n",
    "\n",
    "El enunciado dice que se cuenta con dos csv, por lo que hay que comenzar leyéndolos. a) Por un lado es necesario filtrar del Data frame\n",
    "aquellos datos que corresponden al mes de Octubre de 2017. Para obtener la cantidad de nacimientos, por hospital se puede hacer de muchas\n",
    "formas, una es agrupar y usar size, otra opción seria generar una columna con 1 por cada nacimiento y realizar una agrupación por hospital\n",
    "realizando un aggregate(sum) de esa columna para tener el total por hospital.\n",
    "Luego es necesario realizar el un inner join con la información histórica de hospitales y filtrar aquellas que no cuyo total sea menor o igual al\n",
    "promedio histórico de nacimientos.\n",
    "b) Se debe trabajar respectivamente filtrando datos del data frame para los meses de octubre de los años 2016 y 2017. Es necesario obtener el\n",
    "total de nacimientos para cada uno de los meses y el total de cesáreas de ambos casos para poder calcular el porcentaje para cada año.\n",
    "Es importante que se determine sí se incrementó o no el porcentaje. Si no se realiza descuento de 4 puntos."
   ]
  },
  {
   "cell_type": "markdown",
   "metadata": {},
   "source": [
    "#### Lectura de datos"
   ]
  },
  {
   "cell_type": "code",
   "execution_count": 14,
   "metadata": {},
   "outputs": [
    {
     "data": {
      "text/html": [
       "<div>\n",
       "<style scoped>\n",
       "    .dataframe tbody tr th:only-of-type {\n",
       "        vertical-align: middle;\n",
       "    }\n",
       "\n",
       "    .dataframe tbody tr th {\n",
       "        vertical-align: top;\n",
       "    }\n",
       "\n",
       "    .dataframe thead th {\n",
       "        text-align: right;\n",
       "    }\n",
       "</style>\n",
       "<table border=\"1\" class=\"dataframe\">\n",
       "  <thead>\n",
       "    <tr style=\"text-align: right;\">\n",
       "      <th></th>\n",
       "      <th>dia_nacimiento</th>\n",
       "      <th>mes_nacimiento</th>\n",
       "      <th>anio_nacimiento</th>\n",
       "      <th>peso_al_nacer</th>\n",
       "      <th>longitud_al_nacer</th>\n",
       "      <th>id_hospital</th>\n",
       "      <th>tipo_parto</th>\n",
       "    </tr>\n",
       "  </thead>\n",
       "  <tbody>\n",
       "    <tr>\n",
       "      <th>0</th>\n",
       "      <td>1</td>\n",
       "      <td>10</td>\n",
       "      <td>2016</td>\n",
       "      <td>3</td>\n",
       "      <td>0.5</td>\n",
       "      <td>4</td>\n",
       "      <td>1</td>\n",
       "    </tr>\n",
       "    <tr>\n",
       "      <th>1</th>\n",
       "      <td>2</td>\n",
       "      <td>10</td>\n",
       "      <td>2017</td>\n",
       "      <td>3</td>\n",
       "      <td>0.5</td>\n",
       "      <td>4</td>\n",
       "      <td>2</td>\n",
       "    </tr>\n",
       "    <tr>\n",
       "      <th>2</th>\n",
       "      <td>3</td>\n",
       "      <td>9</td>\n",
       "      <td>2005</td>\n",
       "      <td>3</td>\n",
       "      <td>0.5</td>\n",
       "      <td>4</td>\n",
       "      <td>1</td>\n",
       "    </tr>\n",
       "    <tr>\n",
       "      <th>3</th>\n",
       "      <td>4</td>\n",
       "      <td>8</td>\n",
       "      <td>2017</td>\n",
       "      <td>3</td>\n",
       "      <td>0.5</td>\n",
       "      <td>4</td>\n",
       "      <td>1</td>\n",
       "    </tr>\n",
       "    <tr>\n",
       "      <th>4</th>\n",
       "      <td>5</td>\n",
       "      <td>10</td>\n",
       "      <td>2016</td>\n",
       "      <td>3</td>\n",
       "      <td>0.5</td>\n",
       "      <td>4</td>\n",
       "      <td>1</td>\n",
       "    </tr>\n",
       "  </tbody>\n",
       "</table>\n",
       "</div>"
      ],
      "text/plain": [
       "   dia_nacimiento  mes_nacimiento  anio_nacimiento  peso_al_nacer  \\\n",
       "0               1              10             2016              3   \n",
       "1               2              10             2017              3   \n",
       "2               3               9             2005              3   \n",
       "3               4               8             2017              3   \n",
       "4               5              10             2016              3   \n",
       "\n",
       "   longitud_al_nacer  id_hospital  tipo_parto  \n",
       "0                0.5            4           1  \n",
       "1                0.5            4           2  \n",
       "2                0.5            4           1  \n",
       "3                0.5            4           1  \n",
       "4                0.5            4           1  "
      ]
     },
     "execution_count": 14,
     "metadata": {},
     "output_type": "execute_result"
    }
   ],
   "source": [
    "nacimientos = pd.read_csv('../data/nacimientos/nacimientos.csv')\n",
    "nacimientos.head()"
   ]
  },
  {
   "cell_type": "code",
   "execution_count": 15,
   "metadata": {},
   "outputs": [
    {
     "data": {
      "text/html": [
       "<div>\n",
       "<style scoped>\n",
       "    .dataframe tbody tr th:only-of-type {\n",
       "        vertical-align: middle;\n",
       "    }\n",
       "\n",
       "    .dataframe tbody tr th {\n",
       "        vertical-align: top;\n",
       "    }\n",
       "\n",
       "    .dataframe thead th {\n",
       "        text-align: right;\n",
       "    }\n",
       "</style>\n",
       "<table border=\"1\" class=\"dataframe\">\n",
       "  <thead>\n",
       "    <tr style=\"text-align: right;\">\n",
       "      <th></th>\n",
       "      <th>id_hospital</th>\n",
       "      <th>dirección</th>\n",
       "      <th>promedio_nacimientos_mensual</th>\n",
       "    </tr>\n",
       "  </thead>\n",
       "  <tbody>\n",
       "    <tr>\n",
       "      <th>0</th>\n",
       "      <td>4</td>\n",
       "      <td>Rivadavia 1234</td>\n",
       "      <td>5</td>\n",
       "    </tr>\n",
       "    <tr>\n",
       "      <th>1</th>\n",
       "      <td>1</td>\n",
       "      <td>9 de Julio 1000</td>\n",
       "      <td>4</td>\n",
       "    </tr>\n",
       "    <tr>\n",
       "      <th>2</th>\n",
       "      <td>3</td>\n",
       "      <td>Evergreen 123</td>\n",
       "      <td>8</td>\n",
       "    </tr>\n",
       "    <tr>\n",
       "      <th>3</th>\n",
       "      <td>2</td>\n",
       "      <td>General Paz 984</td>\n",
       "      <td>10</td>\n",
       "    </tr>\n",
       "  </tbody>\n",
       "</table>\n",
       "</div>"
      ],
      "text/plain": [
       "   id_hospital        dirección  promedio_nacimientos_mensual\n",
       "0            4   Rivadavia 1234                             5\n",
       "1            1  9 de Julio 1000                             4\n",
       "2            3    Evergreen 123                             8\n",
       "3            2  General Paz 984                            10"
      ]
     },
     "execution_count": 15,
     "metadata": {},
     "output_type": "execute_result"
    }
   ],
   "source": [
    "historico = pd.read_csv('../data/nacimientos/historico_mensual.csv')\n",
    "historico.head()"
   ]
  },
  {
   "cell_type": "markdown",
   "metadata": {},
   "source": [
    "#### a) Nacimientos en octubre de 2017 que superan el histórico mensual"
   ]
  },
  {
   "cell_type": "code",
   "execution_count": 16,
   "metadata": {},
   "outputs": [
    {
     "data": {
      "text/html": [
       "<div>\n",
       "<style scoped>\n",
       "    .dataframe tbody tr th:only-of-type {\n",
       "        vertical-align: middle;\n",
       "    }\n",
       "\n",
       "    .dataframe tbody tr th {\n",
       "        vertical-align: top;\n",
       "    }\n",
       "\n",
       "    .dataframe thead th {\n",
       "        text-align: right;\n",
       "    }\n",
       "</style>\n",
       "<table border=\"1\" class=\"dataframe\">\n",
       "  <thead>\n",
       "    <tr style=\"text-align: right;\">\n",
       "      <th></th>\n",
       "      <th>id_hospital</th>\n",
       "      <th>tipo_parto</th>\n",
       "    </tr>\n",
       "  </thead>\n",
       "  <tbody>\n",
       "    <tr>\n",
       "      <th>1</th>\n",
       "      <td>4</td>\n",
       "      <td>2</td>\n",
       "    </tr>\n",
       "    <tr>\n",
       "      <th>6</th>\n",
       "      <td>4</td>\n",
       "      <td>1</td>\n",
       "    </tr>\n",
       "    <tr>\n",
       "      <th>8</th>\n",
       "      <td>4</td>\n",
       "      <td>1</td>\n",
       "    </tr>\n",
       "    <tr>\n",
       "      <th>15</th>\n",
       "      <td>4</td>\n",
       "      <td>1</td>\n",
       "    </tr>\n",
       "    <tr>\n",
       "      <th>17</th>\n",
       "      <td>4</td>\n",
       "      <td>1</td>\n",
       "    </tr>\n",
       "  </tbody>\n",
       "</table>\n",
       "</div>"
      ],
      "text/plain": [
       "    id_hospital  tipo_parto\n",
       "1             4           2\n",
       "6             4           1\n",
       "8             4           1\n",
       "15            4           1\n",
       "17            4           1"
      ]
     },
     "execution_count": 16,
     "metadata": {},
     "output_type": "execute_result"
    }
   ],
   "source": [
    "# Me quedo con los nacimientos en octubre de 2017 \n",
    "# y con las columnas id_hospital y tipo_parto\n",
    "nacs = nacimientos.loc[(nacimientos.anio_nacimiento == 2017) & \\\n",
    "                        (nacimientos.mes_nacimiento == 10),\\\n",
    "                        ['id_hospital', 'tipo_parto']]\n",
    "nacs.head()"
   ]
  },
  {
   "cell_type": "code",
   "execution_count": 17,
   "metadata": {},
   "outputs": [
    {
     "data": {
      "text/html": [
       "<div>\n",
       "<style scoped>\n",
       "    .dataframe tbody tr th:only-of-type {\n",
       "        vertical-align: middle;\n",
       "    }\n",
       "\n",
       "    .dataframe tbody tr th {\n",
       "        vertical-align: top;\n",
       "    }\n",
       "\n",
       "    .dataframe thead th {\n",
       "        text-align: right;\n",
       "    }\n",
       "</style>\n",
       "<table border=\"1\" class=\"dataframe\">\n",
       "  <thead>\n",
       "    <tr style=\"text-align: right;\">\n",
       "      <th></th>\n",
       "      <th>id_hospital</th>\n",
       "      <th>cant</th>\n",
       "    </tr>\n",
       "  </thead>\n",
       "  <tbody>\n",
       "    <tr>\n",
       "      <th>0</th>\n",
       "      <td>1</td>\n",
       "      <td>2</td>\n",
       "    </tr>\n",
       "    <tr>\n",
       "      <th>1</th>\n",
       "      <td>3</td>\n",
       "      <td>1</td>\n",
       "    </tr>\n",
       "    <tr>\n",
       "      <th>2</th>\n",
       "      <td>4</td>\n",
       "      <td>7</td>\n",
       "    </tr>\n",
       "  </tbody>\n",
       "</table>\n",
       "</div>"
      ],
      "text/plain": [
       "   id_hospital  cant\n",
       "0            1     2\n",
       "1            3     1\n",
       "2            4     7"
      ]
     },
     "execution_count": 17,
     "metadata": {},
     "output_type": "execute_result"
    }
   ],
   "source": [
    "# Agrupo por hospitales y calculo la cantidad\n",
    "nacs = nacs.groupby('id_hospital').size().to_frame('cant').reset_index()\n",
    "nacs"
   ]
  },
  {
   "cell_type": "code",
   "execution_count": 18,
   "metadata": {},
   "outputs": [
    {
     "data": {
      "text/html": [
       "<div>\n",
       "<style scoped>\n",
       "    .dataframe tbody tr th:only-of-type {\n",
       "        vertical-align: middle;\n",
       "    }\n",
       "\n",
       "    .dataframe tbody tr th {\n",
       "        vertical-align: top;\n",
       "    }\n",
       "\n",
       "    .dataframe thead th {\n",
       "        text-align: right;\n",
       "    }\n",
       "</style>\n",
       "<table border=\"1\" class=\"dataframe\">\n",
       "  <thead>\n",
       "    <tr style=\"text-align: right;\">\n",
       "      <th></th>\n",
       "      <th>id_hospital</th>\n",
       "      <th>cant</th>\n",
       "      <th>dirección</th>\n",
       "      <th>promedio_nacimientos_mensual</th>\n",
       "    </tr>\n",
       "  </thead>\n",
       "  <tbody>\n",
       "    <tr>\n",
       "      <th>2</th>\n",
       "      <td>4</td>\n",
       "      <td>7</td>\n",
       "      <td>Rivadavia 1234</td>\n",
       "      <td>5</td>\n",
       "    </tr>\n",
       "  </tbody>\n",
       "</table>\n",
       "</div>"
      ],
      "text/plain": [
       "   id_hospital  cant       dirección  promedio_nacimientos_mensual\n",
       "2            4     7  Rivadavia 1234                             5"
      ]
     },
     "execution_count": 18,
     "metadata": {},
     "output_type": "execute_result"
    }
   ],
   "source": [
    "# Hago un inner join con el dataframe histórico\n",
    "merged = pd.merge(nacs, historico, on = 'id_hospital', how = 'inner')\n",
    "\n",
    "# Me quedo con los hospitales que superen el histórico mensual\n",
    "merged.loc[merged.cant > merged.promedio_nacimientos_mensual,:]"
   ]
  },
  {
   "cell_type": "markdown",
   "metadata": {},
   "source": [
    "#### b) Incremento de cesáreas entre octubre de 2016 y 2017"
   ]
  },
  {
   "cell_type": "code",
   "execution_count": 19,
   "metadata": {},
   "outputs": [
    {
     "data": {
      "text/html": [
       "<div>\n",
       "<style scoped>\n",
       "    .dataframe tbody tr th:only-of-type {\n",
       "        vertical-align: middle;\n",
       "    }\n",
       "\n",
       "    .dataframe tbody tr th {\n",
       "        vertical-align: top;\n",
       "    }\n",
       "\n",
       "    .dataframe thead th {\n",
       "        text-align: right;\n",
       "    }\n",
       "</style>\n",
       "<table border=\"1\" class=\"dataframe\">\n",
       "  <thead>\n",
       "    <tr style=\"text-align: right;\">\n",
       "      <th></th>\n",
       "      <th>anio_nacimiento</th>\n",
       "      <th>tipo_parto</th>\n",
       "    </tr>\n",
       "  </thead>\n",
       "  <tbody>\n",
       "    <tr>\n",
       "      <th>0</th>\n",
       "      <td>2016</td>\n",
       "      <td>1</td>\n",
       "    </tr>\n",
       "    <tr>\n",
       "      <th>1</th>\n",
       "      <td>2017</td>\n",
       "      <td>2</td>\n",
       "    </tr>\n",
       "    <tr>\n",
       "      <th>4</th>\n",
       "      <td>2016</td>\n",
       "      <td>1</td>\n",
       "    </tr>\n",
       "    <tr>\n",
       "      <th>6</th>\n",
       "      <td>2017</td>\n",
       "      <td>1</td>\n",
       "    </tr>\n",
       "    <tr>\n",
       "      <th>7</th>\n",
       "      <td>2016</td>\n",
       "      <td>1</td>\n",
       "    </tr>\n",
       "  </tbody>\n",
       "</table>\n",
       "</div>"
      ],
      "text/plain": [
       "   anio_nacimiento  tipo_parto\n",
       "0             2016           1\n",
       "1             2017           2\n",
       "4             2016           1\n",
       "6             2017           1\n",
       "7             2016           1"
      ]
     },
     "execution_count": 19,
     "metadata": {},
     "output_type": "execute_result"
    }
   ],
   "source": [
    "nacs10 = nacimientos.loc[((nacimientos.anio_nacimiento == 2016) |\n",
    "                (nacimientos.anio_nacimiento == 2017)) & \\\n",
    "                (nacimientos.mes_nacimiento == 10), \\\n",
    "                ['anio_nacimiento','tipo_parto']]\n",
    "nacs10.head()"
   ]
  },
  {
   "cell_type": "code",
   "execution_count": 21,
   "metadata": {},
   "outputs": [
    {
     "data": {
      "text/html": [
       "<div>\n",
       "<style scoped>\n",
       "    .dataframe tbody tr th:only-of-type {\n",
       "        vertical-align: middle;\n",
       "    }\n",
       "\n",
       "    .dataframe tbody tr th {\n",
       "        vertical-align: top;\n",
       "    }\n",
       "\n",
       "    .dataframe thead th {\n",
       "        text-align: right;\n",
       "    }\n",
       "</style>\n",
       "<table border=\"1\" class=\"dataframe\">\n",
       "  <thead>\n",
       "    <tr style=\"text-align: right;\">\n",
       "      <th></th>\n",
       "      <th>tipo_parto</th>\n",
       "    </tr>\n",
       "  </thead>\n",
       "  <tbody>\n",
       "    <tr>\n",
       "      <th>0</th>\n",
       "      <td>1</td>\n",
       "    </tr>\n",
       "    <tr>\n",
       "      <th>4</th>\n",
       "      <td>1</td>\n",
       "    </tr>\n",
       "    <tr>\n",
       "      <th>7</th>\n",
       "      <td>1</td>\n",
       "    </tr>\n",
       "    <tr>\n",
       "      <th>10</th>\n",
       "      <td>2</td>\n",
       "    </tr>\n",
       "    <tr>\n",
       "      <th>13</th>\n",
       "      <td>1</td>\n",
       "    </tr>\n",
       "  </tbody>\n",
       "</table>\n",
       "</div>"
      ],
      "text/plain": [
       "    tipo_parto\n",
       "0            1\n",
       "4            1\n",
       "7            1\n",
       "10           2\n",
       "13           1"
      ]
     },
     "execution_count": 21,
     "metadata": {},
     "output_type": "execute_result"
    }
   ],
   "source": [
    "nacs16 = nacimientos.loc[(nacimientos.anio_nacimiento == 2016) & \\\n",
    "                  (nacimientos.mes_nacimiento == 10), ['tipo_parto']]\n",
    "nacs16.head()"
   ]
  },
  {
   "cell_type": "code",
   "execution_count": 22,
   "metadata": {},
   "outputs": [
    {
     "data": {
      "text/html": [
       "<div>\n",
       "<style scoped>\n",
       "    .dataframe tbody tr th:only-of-type {\n",
       "        vertical-align: middle;\n",
       "    }\n",
       "\n",
       "    .dataframe tbody tr th {\n",
       "        vertical-align: top;\n",
       "    }\n",
       "\n",
       "    .dataframe thead th {\n",
       "        text-align: right;\n",
       "    }\n",
       "</style>\n",
       "<table border=\"1\" class=\"dataframe\">\n",
       "  <thead>\n",
       "    <tr style=\"text-align: right;\">\n",
       "      <th></th>\n",
       "      <th>cant</th>\n",
       "    </tr>\n",
       "    <tr>\n",
       "      <th>tipo_parto</th>\n",
       "      <th></th>\n",
       "    </tr>\n",
       "  </thead>\n",
       "  <tbody>\n",
       "    <tr>\n",
       "      <th>1</th>\n",
       "      <td>5</td>\n",
       "    </tr>\n",
       "    <tr>\n",
       "      <th>2</th>\n",
       "      <td>2</td>\n",
       "    </tr>\n",
       "  </tbody>\n",
       "</table>\n",
       "</div>"
      ],
      "text/plain": [
       "            cant\n",
       "tipo_parto      \n",
       "1              5\n",
       "2              2"
      ]
     },
     "execution_count": 22,
     "metadata": {},
     "output_type": "execute_result"
    }
   ],
   "source": [
    "nacs16 = nacs16.groupby('tipo_parto').size().to_frame('cant')\n",
    "nacs16"
   ]
  },
  {
   "cell_type": "code",
   "execution_count": 23,
   "metadata": {},
   "outputs": [
    {
     "data": {
      "text/html": [
       "<div>\n",
       "<style scoped>\n",
       "    .dataframe tbody tr th:only-of-type {\n",
       "        vertical-align: middle;\n",
       "    }\n",
       "\n",
       "    .dataframe tbody tr th {\n",
       "        vertical-align: top;\n",
       "    }\n",
       "\n",
       "    .dataframe thead th {\n",
       "        text-align: right;\n",
       "    }\n",
       "</style>\n",
       "<table border=\"1\" class=\"dataframe\">\n",
       "  <thead>\n",
       "    <tr style=\"text-align: right;\">\n",
       "      <th></th>\n",
       "      <th>cant</th>\n",
       "      <th>perc</th>\n",
       "    </tr>\n",
       "    <tr>\n",
       "      <th>tipo_parto</th>\n",
       "      <th></th>\n",
       "      <th></th>\n",
       "    </tr>\n",
       "  </thead>\n",
       "  <tbody>\n",
       "    <tr>\n",
       "      <th>1</th>\n",
       "      <td>5</td>\n",
       "      <td>0.714286</td>\n",
       "    </tr>\n",
       "    <tr>\n",
       "      <th>2</th>\n",
       "      <td>2</td>\n",
       "      <td>0.285714</td>\n",
       "    </tr>\n",
       "  </tbody>\n",
       "</table>\n",
       "</div>"
      ],
      "text/plain": [
       "            cant      perc\n",
       "tipo_parto                \n",
       "1              5  0.714286\n",
       "2              2  0.285714"
      ]
     },
     "execution_count": 23,
     "metadata": {},
     "output_type": "execute_result"
    }
   ],
   "source": [
    "nacs16['perc'] = nacs16.apply(lambda x: x.cant / nacs16.cant.agg(sum), axis = 1)\n",
    "nacs16"
   ]
  },
  {
   "cell_type": "code",
   "execution_count": 25,
   "metadata": {},
   "outputs": [
    {
     "data": {
      "text/html": [
       "<div>\n",
       "<style scoped>\n",
       "    .dataframe tbody tr th:only-of-type {\n",
       "        vertical-align: middle;\n",
       "    }\n",
       "\n",
       "    .dataframe tbody tr th {\n",
       "        vertical-align: top;\n",
       "    }\n",
       "\n",
       "    .dataframe thead th {\n",
       "        text-align: right;\n",
       "    }\n",
       "</style>\n",
       "<table border=\"1\" class=\"dataframe\">\n",
       "  <thead>\n",
       "    <tr style=\"text-align: right;\">\n",
       "      <th></th>\n",
       "      <th>cant</th>\n",
       "      <th>perc</th>\n",
       "    </tr>\n",
       "    <tr>\n",
       "      <th>tipo_parto</th>\n",
       "      <th></th>\n",
       "      <th></th>\n",
       "    </tr>\n",
       "  </thead>\n",
       "  <tbody>\n",
       "    <tr>\n",
       "      <th>1</th>\n",
       "      <td>5</td>\n",
       "      <td>0.5</td>\n",
       "    </tr>\n",
       "    <tr>\n",
       "      <th>2</th>\n",
       "      <td>5</td>\n",
       "      <td>0.5</td>\n",
       "    </tr>\n",
       "  </tbody>\n",
       "</table>\n",
       "</div>"
      ],
      "text/plain": [
       "            cant  perc\n",
       "tipo_parto            \n",
       "1              5   0.5\n",
       "2              5   0.5"
      ]
     },
     "execution_count": 25,
     "metadata": {},
     "output_type": "execute_result"
    }
   ],
   "source": [
    "nacs17 = nacimientos.loc[(nacimientos.anio_nacimiento == 2017) & \\\n",
    "                  (nacimientos.mes_nacimiento == 10), ['tipo_parto']]\n",
    "nacs17 = nacs17.groupby('tipo_parto').size().to_frame('cant')\n",
    "nacs17['perc'] = nacs17.apply(lambda x: x.cant / nacs17.cant.agg(sum), axis = 1)\n",
    "nacs17"
   ]
  },
  {
   "cell_type": "code",
   "execution_count": 26,
   "metadata": {},
   "outputs": [
    {
     "data": {
      "text/html": [
       "<div>\n",
       "<style scoped>\n",
       "    .dataframe tbody tr th:only-of-type {\n",
       "        vertical-align: middle;\n",
       "    }\n",
       "\n",
       "    .dataframe tbody tr th {\n",
       "        vertical-align: top;\n",
       "    }\n",
       "\n",
       "    .dataframe thead th {\n",
       "        text-align: right;\n",
       "    }\n",
       "</style>\n",
       "<table border=\"1\" class=\"dataframe\">\n",
       "  <thead>\n",
       "    <tr style=\"text-align: right;\">\n",
       "      <th></th>\n",
       "      <th>tipo_parto</th>\n",
       "      <th>cant_x</th>\n",
       "      <th>perc_x</th>\n",
       "      <th>cant_y</th>\n",
       "      <th>perc_y</th>\n",
       "    </tr>\n",
       "  </thead>\n",
       "  <tbody>\n",
       "    <tr>\n",
       "      <th>0</th>\n",
       "      <td>1</td>\n",
       "      <td>5</td>\n",
       "      <td>0.714286</td>\n",
       "      <td>5</td>\n",
       "      <td>0.5</td>\n",
       "    </tr>\n",
       "    <tr>\n",
       "      <th>1</th>\n",
       "      <td>2</td>\n",
       "      <td>2</td>\n",
       "      <td>0.285714</td>\n",
       "      <td>5</td>\n",
       "      <td>0.5</td>\n",
       "    </tr>\n",
       "  </tbody>\n",
       "</table>\n",
       "</div>"
      ],
      "text/plain": [
       "   tipo_parto  cant_x    perc_x  cant_y  perc_y\n",
       "0           1       5  0.714286       5     0.5\n",
       "1           2       2  0.285714       5     0.5"
      ]
     },
     "execution_count": 26,
     "metadata": {},
     "output_type": "execute_result"
    }
   ],
   "source": [
    "merged = pd.merge(nacs16.reset_index(), nacs17.reset_index(),\\\n",
    "                  on = 'tipo_parto', how = 'inner')\n",
    "merged"
   ]
  },
  {
   "cell_type": "markdown",
   "metadata": {},
   "source": [
    "### Ejercicio 4\n",
    "\n",
    "** 2018 1er cuatrimestre (primera oportunidad) **\n",
    "\n",
    "El GCPD (Gotham City Police Department) recolecta la información de casos policiales que acontecen en \n",
    "Ciudad Gótica. Esta información se encuentra guardada en un dataframe con el siguiente formato: (fecha, id_caso, descripcion, estado_caso, categoria, latitud, longitud).\n",
    "Los  posibles estados  que puede tener  un caso son 1: caso abierto, 2: caso  resuelto, 3: cerrado sin resolución.  Las fechas se encuentran en el formato YYYY-MM-DD. \n",
    "Por otro lado el comisionado Gordon guarda un registro detallado sobre en cuáles casos fue activada la\n",
    " batiseñal para pedir ayuda del vigilante, Batman. Esta información se encuentra en un Dataframe con el siguiente formato (id_caso, respuesta), siendo campo respuesta si la señal tuvo una respuesta positiva (1) o negativa (0) de parte de él.\n",
    "El  sector  encargado  de  las  estadísticas  oficiales  del  GCPD  quiere  con  esta  información  analizar  las  siguientes situaciones: \n",
    "\n",
    "  a) Tasa de resolución de casos de la fuerza policial por categoría de caso (considerando aquellos casos en los que no participó Batman). \n",
    "  \n",
    "  b) Tasa de resolución de casos con la ayuda de Batman (considerando que aquellos casos en los que fue llamado con la batiseñal, participó en la resolución). \n",
    "  \n",
    "  c) Indicar el mes del año pasado en el que Batman tuvo mayor participación en la investigación de casos. \n",
    "\n",
    " \n",
    "#### Criterio de corrección\n",
    "\n",
    "Una opción para la resolución es  generar una nueva columna en el Data Frame que podamos usar para \n",
    "saber en qué casos estuvo involucrado Batman. Para ello se puede realizar un join filtrando aquellos casos que tuvieron respuesta a la batiseñal (respuesta en 1), más allá de que hay distintas formas de hacerlo. Se descuentan puntos si la solución no es eficiente, o si se intentan realizar a mano operaciones que ya están resueltas por funciones de pandas."
   ]
  },
  {
   "cell_type": "markdown",
   "metadata": {},
   "source": [
    "#### Lectura de datos"
   ]
  },
  {
   "cell_type": "code",
   "execution_count": 8,
   "metadata": {},
   "outputs": [
    {
     "data": {
      "text/html": [
       "<div>\n",
       "<style scoped>\n",
       "    .dataframe tbody tr th:only-of-type {\n",
       "        vertical-align: middle;\n",
       "    }\n",
       "\n",
       "    .dataframe tbody tr th {\n",
       "        vertical-align: top;\n",
       "    }\n",
       "\n",
       "    .dataframe thead th {\n",
       "        text-align: right;\n",
       "    }\n",
       "</style>\n",
       "<table border=\"1\" class=\"dataframe\">\n",
       "  <thead>\n",
       "    <tr style=\"text-align: right;\">\n",
       "      <th></th>\n",
       "      <th>fecha</th>\n",
       "      <th>id_caso</th>\n",
       "      <th>descripcion</th>\n",
       "      <th>estado_caso</th>\n",
       "      <th>categoria</th>\n",
       "      <th>latitud</th>\n",
       "      <th>longitud</th>\n",
       "    </tr>\n",
       "  </thead>\n",
       "  <tbody>\n",
       "    <tr>\n",
       "      <th>0</th>\n",
       "      <td>2016-09-06</td>\n",
       "      <td>1</td>\n",
       "      <td>Robo en callejón sin salida</td>\n",
       "      <td>1</td>\n",
       "      <td>robo</td>\n",
       "      <td>-34.6</td>\n",
       "      <td>-58.38</td>\n",
       "    </tr>\n",
       "    <tr>\n",
       "      <th>1</th>\n",
       "      <td>2016-09-07</td>\n",
       "      <td>2</td>\n",
       "      <td>Asesinato en callejón sin salida</td>\n",
       "      <td>2</td>\n",
       "      <td>asesinato</td>\n",
       "      <td>-34.6</td>\n",
       "      <td>-58.38</td>\n",
       "    </tr>\n",
       "    <tr>\n",
       "      <th>2</th>\n",
       "      <td>2016-10-08</td>\n",
       "      <td>3</td>\n",
       "      <td>Asalto a banco</td>\n",
       "      <td>3</td>\n",
       "      <td>robo</td>\n",
       "      <td>-34.6</td>\n",
       "      <td>-58.38</td>\n",
       "    </tr>\n",
       "    <tr>\n",
       "      <th>3</th>\n",
       "      <td>2016-10-16</td>\n",
       "      <td>4</td>\n",
       "      <td>Femicidio</td>\n",
       "      <td>1</td>\n",
       "      <td>femicidio</td>\n",
       "      <td>-34.6</td>\n",
       "      <td>-58.38</td>\n",
       "    </tr>\n",
       "    <tr>\n",
       "      <th>4</th>\n",
       "      <td>2016-11-06</td>\n",
       "      <td>5</td>\n",
       "      <td>Asalto con toma de rehenes</td>\n",
       "      <td>2</td>\n",
       "      <td>robo</td>\n",
       "      <td>-34.6</td>\n",
       "      <td>-58.38</td>\n",
       "    </tr>\n",
       "  </tbody>\n",
       "</table>\n",
       "</div>"
      ],
      "text/plain": [
       "       fecha  id_caso                       descripcion  estado_caso  \\\n",
       "0 2016-09-06        1       Robo en callejón sin salida            1   \n",
       "1 2016-09-07        2  Asesinato en callejón sin salida            2   \n",
       "2 2016-10-08        3                    Asalto a banco            3   \n",
       "3 2016-10-16        4                         Femicidio            1   \n",
       "4 2016-11-06        5        Asalto con toma de rehenes            2   \n",
       "\n",
       "   categoria  latitud  longitud  \n",
       "0       robo    -34.6    -58.38  \n",
       "1  asesinato    -34.6    -58.38  \n",
       "2       robo    -34.6    -58.38  \n",
       "3  femicidio    -34.6    -58.38  \n",
       "4       robo    -34.6    -58.38  "
      ]
     },
     "execution_count": 8,
     "metadata": {},
     "output_type": "execute_result"
    }
   ],
   "source": [
    "casos = pd.read_csv('../data/gcpd/casos.csv', encoding = 'utf-8', parse_dates=['fecha'])\n",
    "casos.head()"
   ]
  },
  {
   "cell_type": "code",
   "execution_count": 10,
   "metadata": {},
   "outputs": [
    {
     "data": {
      "text/html": [
       "<div>\n",
       "<style scoped>\n",
       "    .dataframe tbody tr th:only-of-type {\n",
       "        vertical-align: middle;\n",
       "    }\n",
       "\n",
       "    .dataframe tbody tr th {\n",
       "        vertical-align: top;\n",
       "    }\n",
       "\n",
       "    .dataframe thead th {\n",
       "        text-align: right;\n",
       "    }\n",
       "</style>\n",
       "<table border=\"1\" class=\"dataframe\">\n",
       "  <thead>\n",
       "    <tr style=\"text-align: right;\">\n",
       "      <th></th>\n",
       "      <th>id_caso</th>\n",
       "      <th>respuesta</th>\n",
       "    </tr>\n",
       "  </thead>\n",
       "  <tbody>\n",
       "    <tr>\n",
       "      <th>0</th>\n",
       "      <td>21</td>\n",
       "      <td>1</td>\n",
       "    </tr>\n",
       "    <tr>\n",
       "      <th>1</th>\n",
       "      <td>22</td>\n",
       "      <td>1</td>\n",
       "    </tr>\n",
       "    <tr>\n",
       "      <th>2</th>\n",
       "      <td>23</td>\n",
       "      <td>1</td>\n",
       "    </tr>\n",
       "    <tr>\n",
       "      <th>3</th>\n",
       "      <td>24</td>\n",
       "      <td>0</td>\n",
       "    </tr>\n",
       "    <tr>\n",
       "      <th>4</th>\n",
       "      <td>25</td>\n",
       "      <td>1</td>\n",
       "    </tr>\n",
       "  </tbody>\n",
       "</table>\n",
       "</div>"
      ],
      "text/plain": [
       "   id_caso  respuesta\n",
       "0       21          1\n",
       "1       22          1\n",
       "2       23          1\n",
       "3       24          0\n",
       "4       25          1"
      ]
     },
     "execution_count": 10,
     "metadata": {},
     "output_type": "execute_result"
    }
   ],
   "source": [
    "batisenial = pd.read_csv('../data/gcpd/batisenial.csv')\n",
    "batisenial.head()"
   ]
  },
  {
   "cell_type": "code",
   "execution_count": 11,
   "metadata": {},
   "outputs": [
    {
     "data": {
      "text/html": [
       "<div>\n",
       "<style scoped>\n",
       "    .dataframe tbody tr th:only-of-type {\n",
       "        vertical-align: middle;\n",
       "    }\n",
       "\n",
       "    .dataframe tbody tr th {\n",
       "        vertical-align: top;\n",
       "    }\n",
       "\n",
       "    .dataframe thead th {\n",
       "        text-align: right;\n",
       "    }\n",
       "</style>\n",
       "<table border=\"1\" class=\"dataframe\">\n",
       "  <thead>\n",
       "    <tr style=\"text-align: right;\">\n",
       "      <th></th>\n",
       "      <th>id_caso</th>\n",
       "      <th>fecha</th>\n",
       "      <th>estado_caso</th>\n",
       "      <th>categoria</th>\n",
       "      <th>con_batman</th>\n",
       "    </tr>\n",
       "  </thead>\n",
       "  <tbody>\n",
       "    <tr>\n",
       "      <th>0</th>\n",
       "      <td>1</td>\n",
       "      <td>2016-09-06</td>\n",
       "      <td>1</td>\n",
       "      <td>robo</td>\n",
       "      <td>NaN</td>\n",
       "    </tr>\n",
       "    <tr>\n",
       "      <th>1</th>\n",
       "      <td>2</td>\n",
       "      <td>2016-09-07</td>\n",
       "      <td>2</td>\n",
       "      <td>asesinato</td>\n",
       "      <td>NaN</td>\n",
       "    </tr>\n",
       "    <tr>\n",
       "      <th>2</th>\n",
       "      <td>3</td>\n",
       "      <td>2016-10-08</td>\n",
       "      <td>3</td>\n",
       "      <td>robo</td>\n",
       "      <td>NaN</td>\n",
       "    </tr>\n",
       "    <tr>\n",
       "      <th>3</th>\n",
       "      <td>4</td>\n",
       "      <td>2016-10-16</td>\n",
       "      <td>1</td>\n",
       "      <td>femicidio</td>\n",
       "      <td>NaN</td>\n",
       "    </tr>\n",
       "    <tr>\n",
       "      <th>4</th>\n",
       "      <td>5</td>\n",
       "      <td>2016-11-06</td>\n",
       "      <td>2</td>\n",
       "      <td>robo</td>\n",
       "      <td>NaN</td>\n",
       "    </tr>\n",
       "  </tbody>\n",
       "</table>\n",
       "</div>"
      ],
      "text/plain": [
       "   id_caso      fecha  estado_caso  categoria  con_batman\n",
       "0        1 2016-09-06            1       robo         NaN\n",
       "1        2 2016-09-07            2  asesinato         NaN\n",
       "2        3 2016-10-08            3       robo         NaN\n",
       "3        4 2016-10-16            1  femicidio         NaN\n",
       "4        5 2016-11-06            2       robo         NaN"
      ]
     },
     "execution_count": 11,
     "metadata": {},
     "output_type": "execute_result"
    }
   ],
   "source": [
    "# Elimino las columnas que no me interesan\n",
    "casos = casos.loc[:,['id_caso','fecha','estado_caso','categoria']]\n",
    "\n",
    "# Hago un left join agregando una columna con la participación de Batman\n",
    "casos = pd.merge(casos, batisenial, on='id_caso', how='left')\n",
    "\n",
    "# Renombro la nueva columna\n",
    "casos.rename(columns={'respuesta': 'con_batman'}, inplace=True)\n",
    "\n",
    "casos.head()"
   ]
  },
  {
   "cell_type": "markdown",
   "metadata": {},
   "source": [
    "a) Tasa de resolución de casos de la fuerza policial por categoría de caso"
   ]
  },
  {
   "cell_type": "code",
   "execution_count": 12,
   "metadata": {},
   "outputs": [
    {
     "data": {
      "text/html": [
       "<div>\n",
       "<style scoped>\n",
       "    .dataframe tbody tr th:only-of-type {\n",
       "        vertical-align: middle;\n",
       "    }\n",
       "\n",
       "    .dataframe tbody tr th {\n",
       "        vertical-align: top;\n",
       "    }\n",
       "\n",
       "    .dataframe thead th {\n",
       "        text-align: right;\n",
       "    }\n",
       "</style>\n",
       "<table border=\"1\" class=\"dataframe\">\n",
       "  <thead>\n",
       "    <tr style=\"text-align: right;\">\n",
       "      <th></th>\n",
       "      <th>id_caso</th>\n",
       "      <th>fecha</th>\n",
       "      <th>estado_caso</th>\n",
       "      <th>categoria</th>\n",
       "    </tr>\n",
       "  </thead>\n",
       "  <tbody>\n",
       "    <tr>\n",
       "      <th>0</th>\n",
       "      <td>1</td>\n",
       "      <td>2016-09-06</td>\n",
       "      <td>1</td>\n",
       "      <td>robo</td>\n",
       "    </tr>\n",
       "    <tr>\n",
       "      <th>1</th>\n",
       "      <td>2</td>\n",
       "      <td>2016-09-07</td>\n",
       "      <td>2</td>\n",
       "      <td>asesinato</td>\n",
       "    </tr>\n",
       "    <tr>\n",
       "      <th>2</th>\n",
       "      <td>3</td>\n",
       "      <td>2016-10-08</td>\n",
       "      <td>3</td>\n",
       "      <td>robo</td>\n",
       "    </tr>\n",
       "    <tr>\n",
       "      <th>3</th>\n",
       "      <td>4</td>\n",
       "      <td>2016-10-16</td>\n",
       "      <td>1</td>\n",
       "      <td>femicidio</td>\n",
       "    </tr>\n",
       "    <tr>\n",
       "      <th>4</th>\n",
       "      <td>5</td>\n",
       "      <td>2016-11-06</td>\n",
       "      <td>2</td>\n",
       "      <td>robo</td>\n",
       "    </tr>\n",
       "  </tbody>\n",
       "</table>\n",
       "</div>"
      ],
      "text/plain": [
       "   id_caso      fecha  estado_caso  categoria\n",
       "0        1 2016-09-06            1       robo\n",
       "1        2 2016-09-07            2  asesinato\n",
       "2        3 2016-10-08            3       robo\n",
       "3        4 2016-10-16            1  femicidio\n",
       "4        5 2016-11-06            2       robo"
      ]
     },
     "execution_count": 12,
     "metadata": {},
     "output_type": "execute_result"
    }
   ],
   "source": [
    "# Creo un nuevo data frame con los casos en los que no participó Batman\n",
    "sin_batman = casos.loc[casos.con_batman != 1,:]\n",
    "del sin_batman['con_batman']\n",
    "sin_batman.head()"
   ]
  },
  {
   "cell_type": "code",
   "execution_count": 13,
   "metadata": {},
   "outputs": [
    {
     "data": {
      "text/html": [
       "<div>\n",
       "<style scoped>\n",
       "    .dataframe tbody tr th:only-of-type {\n",
       "        vertical-align: middle;\n",
       "    }\n",
       "\n",
       "    .dataframe tbody tr th {\n",
       "        vertical-align: top;\n",
       "    }\n",
       "\n",
       "    .dataframe thead th {\n",
       "        text-align: right;\n",
       "    }\n",
       "</style>\n",
       "<table border=\"1\" class=\"dataframe\">\n",
       "  <thead>\n",
       "    <tr style=\"text-align: right;\">\n",
       "      <th></th>\n",
       "      <th>tasa</th>\n",
       "    </tr>\n",
       "    <tr>\n",
       "      <th>categoria</th>\n",
       "      <th></th>\n",
       "    </tr>\n",
       "  </thead>\n",
       "  <tbody>\n",
       "    <tr>\n",
       "      <th>asesinato</th>\n",
       "      <td>0.500000</td>\n",
       "    </tr>\n",
       "    <tr>\n",
       "      <th>femicidio</th>\n",
       "      <td>0.500000</td>\n",
       "    </tr>\n",
       "    <tr>\n",
       "      <th>hurto</th>\n",
       "      <td>0.333333</td>\n",
       "    </tr>\n",
       "    <tr>\n",
       "      <th>incendio intencional</th>\n",
       "      <td>0.500000</td>\n",
       "    </tr>\n",
       "    <tr>\n",
       "      <th>narcotráfico</th>\n",
       "      <td>0.500000</td>\n",
       "    </tr>\n",
       "    <tr>\n",
       "      <th>robo</th>\n",
       "      <td>0.333333</td>\n",
       "    </tr>\n",
       "    <tr>\n",
       "      <th>robo de vehiculos</th>\n",
       "      <td>0.000000</td>\n",
       "    </tr>\n",
       "    <tr>\n",
       "      <th>tránsito</th>\n",
       "      <td>0.000000</td>\n",
       "    </tr>\n",
       "    <tr>\n",
       "      <th>venta de armas</th>\n",
       "      <td>0.000000</td>\n",
       "    </tr>\n",
       "  </tbody>\n",
       "</table>\n",
       "</div>"
      ],
      "text/plain": [
       "                          tasa\n",
       "categoria                     \n",
       "asesinato             0.500000\n",
       "femicidio             0.500000\n",
       "hurto                 0.333333\n",
       "incendio intencional  0.500000\n",
       "narcotráfico          0.500000\n",
       "robo                  0.333333\n",
       "robo de vehiculos     0.000000\n",
       "tránsito              0.000000\n",
       "venta de armas        0.000000"
      ]
     },
     "execution_count": 13,
     "metadata": {},
     "output_type": "execute_result"
    }
   ],
   "source": [
    "# Agrupo por categoría y calculo la tasa de cada una\n",
    "sin_batman.groupby('categoria')\\\n",
    "    .apply(lambda x: len(x[x['estado_caso'] == 2]) / len(x))\\\n",
    "    .to_frame('tasa')"
   ]
  },
  {
   "cell_type": "markdown",
   "metadata": {},
   "source": [
    "b) Tasa de resolución de casos con la ayuda de Batman"
   ]
  },
  {
   "cell_type": "code",
   "execution_count": 14,
   "metadata": {},
   "outputs": [
    {
     "name": "stdout",
     "output_type": "stream",
     "text": [
      "0.6470588235294118\n"
     ]
    }
   ],
   "source": [
    "con_batman = casos.loc[casos.con_batman == 1,:]\n",
    "con_batman = con_batman.drop(columns=['categoria','con_batman'])\n",
    "cant_casos_con_batman = len(con_batman)\n",
    "cant_casos_resueltos_con_batman = len(con_batman.loc[con_batman.estado_caso == 2,:])\n",
    "tasa_resolucion_batman =  cant_casos_resueltos_con_batman / cant_casos_con_batman\n",
    "print(tasa_resolucion_batman)"
   ]
  },
  {
   "cell_type": "markdown",
   "metadata": {},
   "source": [
    "c) Mes del año pasado en el que Batman tuvo mayor participación en la investigación de casos. "
   ]
  },
  {
   "cell_type": "code",
   "execution_count": 15,
   "metadata": {},
   "outputs": [
    {
     "data": {
      "text/html": [
       "<div>\n",
       "<style scoped>\n",
       "    .dataframe tbody tr th:only-of-type {\n",
       "        vertical-align: middle;\n",
       "    }\n",
       "\n",
       "    .dataframe tbody tr th {\n",
       "        vertical-align: top;\n",
       "    }\n",
       "\n",
       "    .dataframe thead th {\n",
       "        text-align: right;\n",
       "    }\n",
       "</style>\n",
       "<table border=\"1\" class=\"dataframe\">\n",
       "  <thead>\n",
       "    <tr style=\"text-align: right;\">\n",
       "      <th></th>\n",
       "      <th>cant</th>\n",
       "    </tr>\n",
       "    <tr>\n",
       "      <th>mes</th>\n",
       "      <th></th>\n",
       "    </tr>\n",
       "  </thead>\n",
       "  <tbody>\n",
       "    <tr>\n",
       "      <th>7</th>\n",
       "      <td>2</td>\n",
       "    </tr>\n",
       "  </tbody>\n",
       "</table>\n",
       "</div>"
      ],
      "text/plain": [
       "     cant\n",
       "mes      \n",
       "7       2"
      ]
     },
     "execution_count": 15,
     "metadata": {},
     "output_type": "execute_result"
    }
   ],
   "source": [
    "# Filtro los casos del año pasado en los que ayudó Batman\n",
    "con_batman = con_batman.loc[con_batman.fecha.dt.year == 2017,:]\n",
    "\n",
    "# Creo una nueva columna para el mes\n",
    "con_batman['mes'] = con_batman['fecha'].dt.month\n",
    "\n",
    "# Elimino columnas que ya no me interesan\n",
    "con_batman = con_batman.drop(columns=['fecha','estado_caso'])\n",
    "\n",
    "# Calculo las cantidades por cada mes, ordeno descendentemente y muestro el primero\n",
    "con_batman.groupby('mes').size().to_frame('cant')\\\n",
    "    .sort_values('cant', ascending=False).head(1)"
   ]
  },
  {
   "cell_type": "markdown",
   "metadata": {},
   "source": [
    "### Ejercicio 5\n",
    "\n",
    "** 2018 1er cuatrimestre (primera oportunidad) **\n",
    "\n",
    "El Fiscal de Distrito Harvey Dent no esta convencido de que la irrupción de Batman en ciudad Gótica le haya significado a la población y al departamento de policía una mejora en la lucha contra el crimen organizado (categoría número 10 en el dataframe de casos). \n",
    "Es tu misión ayudar al Comisionado Gordon planteando una visualización para demostrar  a  lo  largo  del  tiempo  como  fue  evolucionando  la  lucha  contra  el crimen a partir de la participación de Batman, y el valor que le brinda al GCPD su ayuda\n",
    " \n",
    "#### Criterio de corrección\n",
    "\n",
    "Existen distintos enfoques que se pueden encarar, pero a partir del enunciado se puede ver claramente que el mismo puede considerarse una visualización que nos permita mostrar una serie temporal en la que se pueden mostrar: \n",
    "  \n",
    "- Variación de la tasa de resolución de crímenes en una cierta categoría con la participación de Batman. \n",
    "- Relación entre crímenes sin resolver y crímenes resueltos a lo largo del tiempo desde la aparición de Batman. (que podrían por ejemplo mostrarse para una categoría específica que se quiera indicar como la de crimen organizado).\n",
    "\n",
    "Esto puede lograrse con line plots de y axes, bar plots o stacked bar plots dependiendo de que se quiera mostrar. \n",
    "\n",
    "La propuesta debe comunicar efectivamente lo que se desee mostrar. Descuento de puntaje si la visualización no tiene título, ni ejes rotulados. "
   ]
  },
  {
   "cell_type": "code",
   "execution_count": null,
   "metadata": {},
   "outputs": [],
   "source": []
  },
  {
   "cell_type": "markdown",
   "metadata": {},
   "source": [
    "### Ejercicio 6\n",
    "\n",
    "** 2018 1er cuatrimestre (segunda oportunidad) **\n",
    "\n",
    "El GCPD (Gotham City Police Department) recolecta la información de casos policiales que acontecen en \n",
    "Ciudad Gótica. Esta información se encuentra guardada en un dataframe con el siguiente formato: (fecha, id_caso, descripcion, estado_caso, categoria, latitud, longitud).\n",
    "Los  posibles estados  que puede tener  un caso son 1: caso abierto, 2: caso  resuelto, 3: cerrado sin resolución.  Las fechas se encuentran en el formato YYYY-MM-DD. \n",
    "Por otro lado el comisionado Gordon guarda un registro detallado sobre en cuáles casos fue activada la\n",
    " batiseñal para pedir ayuda del vigilante, Batman. Esta información se encuentra en un Dataframe con el siguiente formato (id_caso, respuesta), siendo campo respuesta si la señal tuvo una respuesta positiva (1) o negativa (0) de parte de él.\n",
    "El  sector  encargado  de  las  estadísticas  oficiales  del  GCPD  quiere  con  esta  información  analizar  las  siguientes situaciones: \n",
    "\n",
    "  a) Las categorías que hayan incrementado su tasa de resolución en al menos un 10% en el último trimestre con respecto al trimestre anterior.\n",
    "\n",
    "  b) Tasa de participación de Batman por categoría para los delitos contra la propiedad (que enmarcan las categorías incendio intencional, robo, hurto y robo de vehículos)\n",
    "\n",
    " \n",
    "#### Criterio de corrección\n",
    "\n",
    "a) Tienen que comparar los totales por trimestre, por lo que lo más simple sería generar una nueva columna con el número de trimestre para los últimos 6 meses (o sea, se quedan con este trimestre y el anterior). Hay varias alternativas de resolución. Una opción es agrupar por categoría y número de trimestre y calcular la tasa de resolución por trimestre para cada categoría. Luego necesitarían hacer un unstack() para quedarse con categoría, tasa_trimestre_actual y tasa_trimestre_anterior como columnas. Una vez con esto es solo cuestión de calcular si el actual supera en un 10% al anterior. Otra opción es usar un transform para calcular la diferencia. También pueden generar un dataframe por trimestre para luego mergearlos pero claramente es peor y tendría un descuento mínimo de 5 puntos. Si no filtran los datos al principio hay un descuento de tres puntos. Operaciones innecesarias tienen un descuento de 3 a 5 puntos.\n",
    "\n",
    "b) Acá podrían filtrar los registros que contienen alguna de las 4 categorías listadas (incendio intencional, robo, hurto y robo de vehículos) con str.contain(). Si no se filtran los datos antes de comenzar hay un descuento de 3 puntos. Luego deben hacer un join con la participación de Batman para armar una columna 1/0 según haya o no participado Batman, agrupar por categoría y calcular el promedio de la participación."
   ]
  },
  {
   "cell_type": "markdown",
   "metadata": {},
   "source": [
    "#### Lectura de datos"
   ]
  },
  {
   "cell_type": "code",
   "execution_count": 11,
   "metadata": {},
   "outputs": [],
   "source": [
    "casos = pd.read_csv('../data/gcpd/casos.csv', encoding = 'utf-8', parse_dates=['fecha'])\n",
    "batisenial = pd.read_csv('../data/gcpd/batisenial.csv')"
   ]
  },
  {
   "cell_type": "markdown",
   "metadata": {},
   "source": [
    "a) Categorías que hayan incrementado su tasa de resolución en al menos un 10% en el último trimestre respecto al anterior."
   ]
  },
  {
   "cell_type": "code",
   "execution_count": 12,
   "metadata": {},
   "outputs": [
    {
     "data": {
      "text/html": [
       "<div>\n",
       "<style scoped>\n",
       "    .dataframe tbody tr th:only-of-type {\n",
       "        vertical-align: middle;\n",
       "    }\n",
       "\n",
       "    .dataframe tbody tr th {\n",
       "        vertical-align: top;\n",
       "    }\n",
       "\n",
       "    .dataframe thead th {\n",
       "        text-align: right;\n",
       "    }\n",
       "</style>\n",
       "<table border=\"1\" class=\"dataframe\">\n",
       "  <thead>\n",
       "    <tr style=\"text-align: right;\">\n",
       "      <th></th>\n",
       "      <th>id_caso</th>\n",
       "      <th>estado_caso</th>\n",
       "      <th>categoria</th>\n",
       "      <th>trimestre</th>\n",
       "    </tr>\n",
       "  </thead>\n",
       "  <tbody>\n",
       "    <tr>\n",
       "      <th>29</th>\n",
       "      <td>30</td>\n",
       "      <td>2</td>\n",
       "      <td>venta de armas</td>\n",
       "      <td>anterior</td>\n",
       "    </tr>\n",
       "    <tr>\n",
       "      <th>30</th>\n",
       "      <td>31</td>\n",
       "      <td>2</td>\n",
       "      <td>hurto</td>\n",
       "      <td>anterior</td>\n",
       "    </tr>\n",
       "    <tr>\n",
       "      <th>31</th>\n",
       "      <td>32</td>\n",
       "      <td>2</td>\n",
       "      <td>asesinato</td>\n",
       "      <td>anterior</td>\n",
       "    </tr>\n",
       "    <tr>\n",
       "      <th>32</th>\n",
       "      <td>33</td>\n",
       "      <td>3</td>\n",
       "      <td>robo</td>\n",
       "      <td>anterior</td>\n",
       "    </tr>\n",
       "    <tr>\n",
       "      <th>33</th>\n",
       "      <td>34</td>\n",
       "      <td>1</td>\n",
       "      <td>femicidio</td>\n",
       "      <td>anterior</td>\n",
       "    </tr>\n",
       "    <tr>\n",
       "      <th>34</th>\n",
       "      <td>35</td>\n",
       "      <td>2</td>\n",
       "      <td>femicidio</td>\n",
       "      <td>anterior</td>\n",
       "    </tr>\n",
       "    <tr>\n",
       "      <th>35</th>\n",
       "      <td>36</td>\n",
       "      <td>2</td>\n",
       "      <td>robo</td>\n",
       "      <td>anterior</td>\n",
       "    </tr>\n",
       "    <tr>\n",
       "      <th>36</th>\n",
       "      <td>37</td>\n",
       "      <td>2</td>\n",
       "      <td>robo de vehiculos</td>\n",
       "      <td>anterior</td>\n",
       "    </tr>\n",
       "    <tr>\n",
       "      <th>37</th>\n",
       "      <td>38</td>\n",
       "      <td>1</td>\n",
       "      <td>incendio intencional</td>\n",
       "      <td>actual</td>\n",
       "    </tr>\n",
       "    <tr>\n",
       "      <th>38</th>\n",
       "      <td>39</td>\n",
       "      <td>2</td>\n",
       "      <td>hurto</td>\n",
       "      <td>actual</td>\n",
       "    </tr>\n",
       "    <tr>\n",
       "      <th>39</th>\n",
       "      <td>40</td>\n",
       "      <td>2</td>\n",
       "      <td>venta de armas</td>\n",
       "      <td>actual</td>\n",
       "    </tr>\n",
       "    <tr>\n",
       "      <th>40</th>\n",
       "      <td>41</td>\n",
       "      <td>2</td>\n",
       "      <td>narcotráfico</td>\n",
       "      <td>actual</td>\n",
       "    </tr>\n",
       "    <tr>\n",
       "      <th>41</th>\n",
       "      <td>42</td>\n",
       "      <td>2</td>\n",
       "      <td>femicidio</td>\n",
       "      <td>actual</td>\n",
       "    </tr>\n",
       "    <tr>\n",
       "      <th>42</th>\n",
       "      <td>43</td>\n",
       "      <td>1</td>\n",
       "      <td>incendio intencional</td>\n",
       "      <td>actual</td>\n",
       "    </tr>\n",
       "    <tr>\n",
       "      <th>43</th>\n",
       "      <td>42</td>\n",
       "      <td>2</td>\n",
       "      <td>femicidio</td>\n",
       "      <td>actual</td>\n",
       "    </tr>\n",
       "  </tbody>\n",
       "</table>\n",
       "</div>"
      ],
      "text/plain": [
       "    id_caso  estado_caso             categoria trimestre\n",
       "29       30            2        venta de armas  anterior\n",
       "30       31            2                 hurto  anterior\n",
       "31       32            2             asesinato  anterior\n",
       "32       33            3                  robo  anterior\n",
       "33       34            1             femicidio  anterior\n",
       "34       35            2             femicidio  anterior\n",
       "35       36            2                  robo  anterior\n",
       "36       37            2     robo de vehiculos  anterior\n",
       "37       38            1  incendio intencional    actual\n",
       "38       39            2                 hurto    actual\n",
       "39       40            2        venta de armas    actual\n",
       "40       41            2          narcotráfico    actual\n",
       "41       42            2             femicidio    actual\n",
       "42       43            1  incendio intencional    actual\n",
       "43       42            2             femicidio    actual"
      ]
     },
     "execution_count": 12,
     "metadata": {},
     "output_type": "execute_result"
    }
   ],
   "source": [
    "hoy = pd.to_datetime('today')\n",
    "\n",
    "# Me quedo con los registros de los últimos seis meses y con las columnas que me interesan\n",
    "casos_trim = casos.loc[hoy - casos.fecha <= dt.timedelta(days=180),\\\n",
    "                      ['fecha','id_caso','estado_caso','categoria']]\n",
    "\n",
    "# Creo una nueva columna con el nombre del trimestre\n",
    "casos_trim['trimestre'] = casos_trim['fecha']\\\n",
    "    .apply(lambda x: 'actual' if ((hoy - x) <= dt.timedelta(days=90)) else 'anterior')\n",
    "\n",
    "del casos_trim['fecha']\n",
    "\n",
    "casos_trim"
   ]
  },
  {
   "cell_type": "code",
   "execution_count": 13,
   "metadata": {},
   "outputs": [
    {
     "data": {
      "text/html": [
       "<div>\n",
       "<style scoped>\n",
       "    .dataframe tbody tr th:only-of-type {\n",
       "        vertical-align: middle;\n",
       "    }\n",
       "\n",
       "    .dataframe tbody tr th {\n",
       "        vertical-align: top;\n",
       "    }\n",
       "\n",
       "    .dataframe thead th {\n",
       "        text-align: right;\n",
       "    }\n",
       "</style>\n",
       "<table border=\"1\" class=\"dataframe\">\n",
       "  <thead>\n",
       "    <tr style=\"text-align: right;\">\n",
       "      <th>trimestre</th>\n",
       "      <th>categoria</th>\n",
       "      <th>actual</th>\n",
       "      <th>anterior</th>\n",
       "    </tr>\n",
       "  </thead>\n",
       "  <tbody>\n",
       "    <tr>\n",
       "      <th>0</th>\n",
       "      <td>asesinato</td>\n",
       "      <td>NaN</td>\n",
       "      <td>1.0</td>\n",
       "    </tr>\n",
       "    <tr>\n",
       "      <th>1</th>\n",
       "      <td>femicidio</td>\n",
       "      <td>1.0</td>\n",
       "      <td>0.5</td>\n",
       "    </tr>\n",
       "    <tr>\n",
       "      <th>2</th>\n",
       "      <td>hurto</td>\n",
       "      <td>1.0</td>\n",
       "      <td>1.0</td>\n",
       "    </tr>\n",
       "    <tr>\n",
       "      <th>3</th>\n",
       "      <td>incendio intencional</td>\n",
       "      <td>0.0</td>\n",
       "      <td>NaN</td>\n",
       "    </tr>\n",
       "    <tr>\n",
       "      <th>4</th>\n",
       "      <td>narcotráfico</td>\n",
       "      <td>1.0</td>\n",
       "      <td>NaN</td>\n",
       "    </tr>\n",
       "    <tr>\n",
       "      <th>5</th>\n",
       "      <td>robo</td>\n",
       "      <td>NaN</td>\n",
       "      <td>0.5</td>\n",
       "    </tr>\n",
       "    <tr>\n",
       "      <th>6</th>\n",
       "      <td>robo de vehiculos</td>\n",
       "      <td>NaN</td>\n",
       "      <td>1.0</td>\n",
       "    </tr>\n",
       "    <tr>\n",
       "      <th>7</th>\n",
       "      <td>venta de armas</td>\n",
       "      <td>1.0</td>\n",
       "      <td>1.0</td>\n",
       "    </tr>\n",
       "  </tbody>\n",
       "</table>\n",
       "</div>"
      ],
      "text/plain": [
       "trimestre             categoria  actual  anterior\n",
       "0                     asesinato     NaN       1.0\n",
       "1                     femicidio     1.0       0.5\n",
       "2                         hurto     1.0       1.0\n",
       "3          incendio intencional     0.0       NaN\n",
       "4                  narcotráfico     1.0       NaN\n",
       "5                          robo     NaN       0.5\n",
       "6             robo de vehiculos     NaN       1.0\n",
       "7                venta de armas     1.0       1.0"
      ]
     },
     "execution_count": 13,
     "metadata": {},
     "output_type": "execute_result"
    }
   ],
   "source": [
    "# Agrupo por categoría y trimestre, calculo la tasa de resolución para cada agrupamiento\n",
    "# y pongo el resultado de cada trimestre en columnas separadas mediante unstack\n",
    "casos_trim = casos_trim.groupby(['categoria','trimestre'])\\\n",
    "    .apply(lambda x: len(x[x['estado_caso'] == 2]) / len(x))\\\n",
    "    .unstack().reset_index()\n",
    "\n",
    "casos_trim"
   ]
  },
  {
   "cell_type": "code",
   "execution_count": 98,
   "metadata": {},
   "outputs": [
    {
     "data": {
      "text/html": [
       "<div>\n",
       "<style scoped>\n",
       "    .dataframe tbody tr th:only-of-type {\n",
       "        vertical-align: middle;\n",
       "    }\n",
       "\n",
       "    .dataframe tbody tr th {\n",
       "        vertical-align: top;\n",
       "    }\n",
       "\n",
       "    .dataframe thead th {\n",
       "        text-align: right;\n",
       "    }\n",
       "</style>\n",
       "<table border=\"1\" class=\"dataframe\">\n",
       "  <thead>\n",
       "    <tr style=\"text-align: right;\">\n",
       "      <th>trimestre</th>\n",
       "      <th>categoria</th>\n",
       "      <th>actual</th>\n",
       "      <th>anterior</th>\n",
       "    </tr>\n",
       "  </thead>\n",
       "  <tbody>\n",
       "    <tr>\n",
       "      <th>1</th>\n",
       "      <td>femicidio</td>\n",
       "      <td>1.0</td>\n",
       "      <td>0.5</td>\n",
       "    </tr>\n",
       "  </tbody>\n",
       "</table>\n",
       "</div>"
      ],
      "text/plain": [
       "trimestre  categoria  actual  anterior\n",
       "1          femicidio     1.0       0.5"
      ]
     },
     "execution_count": 98,
     "metadata": {},
     "output_type": "execute_result"
    }
   ],
   "source": [
    "# Selecciono las categorías que tengan un incremente superior al 10% en\n",
    "# la tasa de resolución del trimestre actual respecto al anterior\n",
    "casos_trim.loc[(casos_trim['actual'] / casos_trim['anterior']) >= 1.1,:]"
   ]
  },
  {
   "cell_type": "markdown",
   "metadata": {},
   "source": [
    "b) Tasa de participación de Batman por categoría para los delitos contra la propiedad"
   ]
  },
  {
   "cell_type": "code",
   "execution_count": 25,
   "metadata": {},
   "outputs": [
    {
     "data": {
      "text/html": [
       "<div>\n",
       "<style scoped>\n",
       "    .dataframe tbody tr th:only-of-type {\n",
       "        vertical-align: middle;\n",
       "    }\n",
       "\n",
       "    .dataframe tbody tr th {\n",
       "        vertical-align: top;\n",
       "    }\n",
       "\n",
       "    .dataframe thead th {\n",
       "        text-align: right;\n",
       "    }\n",
       "</style>\n",
       "<table border=\"1\" class=\"dataframe\">\n",
       "  <thead>\n",
       "    <tr style=\"text-align: right;\">\n",
       "      <th></th>\n",
       "      <th>tasa</th>\n",
       "    </tr>\n",
       "    <tr>\n",
       "      <th>categoria</th>\n",
       "      <th></th>\n",
       "    </tr>\n",
       "  </thead>\n",
       "  <tbody>\n",
       "    <tr>\n",
       "      <th>hurto</th>\n",
       "      <td>0.500000</td>\n",
       "    </tr>\n",
       "    <tr>\n",
       "      <th>incendio intencional</th>\n",
       "      <td>0.333333</td>\n",
       "    </tr>\n",
       "    <tr>\n",
       "      <th>robo</th>\n",
       "      <td>0.333333</td>\n",
       "    </tr>\n",
       "    <tr>\n",
       "      <th>robo de vehiculos</th>\n",
       "      <td>0.500000</td>\n",
       "    </tr>\n",
       "  </tbody>\n",
       "</table>\n",
       "</div>"
      ],
      "text/plain": [
       "                          tasa\n",
       "categoria                     \n",
       "hurto                 0.500000\n",
       "incendio intencional  0.333333\n",
       "robo                  0.333333\n",
       "robo de vehiculos     0.500000"
      ]
     },
     "execution_count": 25,
     "metadata": {},
     "output_type": "execute_result"
    }
   ],
   "source": [
    "# Filtro los casos de las categorías en cuestión y elmino columnas que no me interesan\n",
    "casos_contra_prop = casos.loc[((casos.categoria.str.contains('robo')) |\n",
    "                               (casos.categoria.str.contains('incendio intencional')) |\\\n",
    "                               (casos.categoria.str.contains('hurto'))),\\\n",
    "                              ['id_caso','categoria']]\n",
    "\n",
    "# Hago un left join agregando una columna con la participación de Batman\n",
    "casos_contra_prop = pd.merge(casos_contra_prop, batisenial, on='id_caso', how='left')\n",
    "\n",
    "# Agrupo por categoría y calculo la tasa de cada una\n",
    "casos_contra_prop.groupby('categoria')\\\n",
    "    .apply(lambda x: len(x[x['respuesta'] == 1]) / len(x))\\\n",
    "    .to_frame('tasa')"
   ]
  },
  {
   "cell_type": "code",
   "execution_count": null,
   "metadata": {},
   "outputs": [],
   "source": []
  },
  {
   "cell_type": "code",
   "execution_count": 4,
   "metadata": {},
   "outputs": [
    {
     "data": {
      "text/plain": [
       "'fecha,id_caso,descripcion,estado_caso,categoria,latitud,longitud'"
      ]
     },
     "execution_count": 4,
     "metadata": {},
     "output_type": "execute_result"
    }
   ],
   "source": [
    "# Leo el CSV de casos\n",
    "casosRDD = sc.textFile('../data/gcpd/casos.csv')\n",
    "casosRDD.collect()\n",
    "\n",
    "# Remuevo la línea de encabezado\n",
    "header = casosRDD.first()\n",
    "casosRDD = casosRDD.filter(lambda line: line != header)\n",
    "\n",
    "# Separo por comas\n",
    "casosRDD = casosRDD.map(lambda a: a.split(','))\n",
    "\n",
    "header"
   ]
  },
  {
   "cell_type": "code",
   "execution_count": 5,
   "metadata": {},
   "outputs": [
    {
     "data": {
      "text/plain": [
       "'id_caso,respuesta'"
      ]
     },
     "execution_count": 5,
     "metadata": {},
     "output_type": "execute_result"
    }
   ],
   "source": [
    "# Leo el CSV de batiseñal\n",
    "batisenialRDD = sc.textFile('../data/gcpd/batisenial.csv')\n",
    "batisenialRDD.collect()\n",
    "\n",
    "# Remuevo la línea de encabezado\n",
    "header = batisenialRDD.first()\n",
    "batisenialRDD = batisenialRDD.filter(lambda line: line != header)\n",
    "\n",
    "# Separo por comas\n",
    "batisenialRDD = batisenialRDD.map(lambda a: a.split(','))\n",
    "\n",
    "header"
   ]
  }
 ],
 "metadata": {
  "kernelspec": {
   "display_name": "Python 3",
   "language": "python",
   "name": "python3"
  },
  "language_info": {
   "codemirror_mode": {
    "name": "ipython",
    "version": 3
   },
   "file_extension": ".py",
   "mimetype": "text/x-python",
   "name": "python",
   "nbconvert_exporter": "python",
   "pygments_lexer": "ipython3",
   "version": "3.6.5"
  }
 },
 "nbformat": 4,
 "nbformat_minor": 2
}
